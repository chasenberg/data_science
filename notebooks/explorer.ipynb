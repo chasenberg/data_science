{
 "cells": [
  {
   "cell_type": "markdown",
   "metadata": {},
   "source": [
    "# Business demography of the European Union\n",
    "\n",
    "## Introduction\n",
    "\n",
    "* This notebook is intended to demonstrate basic techniques of formatting a dataset and gaining simple insights.  The term business demography is used here to cover a group of variables which explain the characteristics and demography of the business population. The creation of new enterprises and the closure of unproductive businesses can be seen as an important contributor to business dynamism. In addition to studying the population of active enterprises, the counts and characteristics of enterprise births and deaths are examined. \n",
    "\n",
    "\n"
   ]
  },
  {
   "cell_type": "code",
   "execution_count": 1,
   "metadata": {
    "collapsed": true
   },
   "outputs": [],
   "source": [
    "import pandas as pd\n",
    "import plotly.plotly as py\n",
    "import plotly.graph_objs as go\n",
    "\n",
    "from datetime import datetime\n",
    "import pandas_datareader.data as web\n",
    "\n",
    "import seaborn as sns\n",
    "import matplotlib.pyplot as plt\n",
    "\n",
    "import pycountry\n",
    "import numpy as np"
   ]
  },
  {
   "cell_type": "code",
   "execution_count": 2,
   "metadata": {},
   "outputs": [
    {
     "data": {
      "text/plain": [
       "Index(['GEO,LEG_FORM,INDIC_SB,NACE_R2\\TIME', '2006', '2007', '2008', '2009',\n",
       "       '2010', '2011', '2012', '2013', '2014', '2015'],\n",
       "      dtype='object')"
      ]
     },
     "execution_count": 2,
     "metadata": {},
     "output_type": "execute_result"
    }
   ],
   "source": [
    "#UserInfo.tsv\n",
    "business_demography = pd.read_csv('../datasets/european-business-demography.tsv', delimiter='\\t', encoding='utf-8')\n",
    "#print(list(business_by_demography.columns.values)) #file header\n",
    "business_demography.columns"
   ]
  },
  {
   "cell_type": "markdown",
   "metadata": {},
   "source": [
    "### Renaming the lengthy legend"
   ]
  },
  {
   "cell_type": "code",
   "execution_count": 3,
   "metadata": {
    "collapsed": true
   },
   "outputs": [],
   "source": [
    "business_demography = business_demography.rename(columns={'GEO,LEG_FORM,INDIC_SB,NACE_R2\\TIME':'Countries'})"
   ]
  },
  {
   "cell_type": "markdown",
   "metadata": {},
   "source": [
    "### Transpose table and generate new vertical index\n",
    "* Its my personal preference having the growth/death etc. values assigned to each year organized in columns"
   ]
  },
  {
   "cell_type": "code",
   "execution_count": 4,
   "metadata": {
    "collapsed": true
   },
   "outputs": [],
   "source": [
    "#Fill empty cells with zeros\n",
    "business_demography = business_demography.fillna(0)\n",
    "#Set countries as new dataframe index\n",
    "business_demography.set_index('Countries',inplace=True)\n",
    "#Transpose the table\n",
    "business_demography = business_demography.transpose()"
   ]
  },
  {
   "cell_type": "markdown",
   "metadata": {},
   "source": [
    "## There are certain flags in the table to indicate special features of the data\n",
    "\n",
    "### Available flags\n",
    "* b\tbreak in time series\n",
    "* c\tconfidential\n",
    "* d\tdefinition differs, see metadata\n",
    "* e\testimated\n",
    "* f\tforecast\n",
    "* i\tsee metadata (phased out)\n",
    "* n\tnot significant\n",
    "* p\tprovisional\n",
    "* r\trevised\n",
    "* s\tEurostat estimate (phased out)\n",
    "* u\tlow reliability\n",
    "* z\tnot applicable\n",
    "\n",
    "It is not recommendable in general to drop the information contained by these flags, but for first exploration purposes it should not do too much harm. The flags can easily remove by filling them all into a list and strip them by looping over this list. \n",
    "\n",
    "### Lets remove these flags"
   ]
  },
  {
   "cell_type": "code",
   "execution_count": 5,
   "metadata": {
    "collapsed": true
   },
   "outputs": [],
   "source": [
    "flags = ['b', 'c', 'd','e','f','i','n','p','r','s','u','z']"
   ]
  },
  {
   "cell_type": "code",
   "execution_count": 6,
   "metadata": {
    "collapsed": true,
    "scrolled": true
   },
   "outputs": [],
   "source": [
    "for column in business_demography.columns:  \n",
    "    column = str(column)\n",
    "    for flag in flags:\n",
    "        business_demography[column] = business_demography[column].str.strip(flag)"
   ]
  },
  {
   "cell_type": "markdown",
   "metadata": {},
   "source": [
    "### Replace the lengthy name of Germany in all availabe columns\n",
    "1. The lengthy column titles are structered by commas\n",
    "2. The country name is extracted by using the .split() command with delimiter ','\n",
    "3. This returns a list of strings where the first element equals the particular country name\n",
    "4. The name can be replaced"
   ]
  },
  {
   "cell_type": "code",
   "execution_count": 7,
   "metadata": {
    "collapsed": true
   },
   "outputs": [],
   "source": [
    "for column in business_demography.columns:  \n",
    "    column = str(column)\n",
    "    column_content = column.split(',')[0]\n",
    "    if 'Germany' in column_content:\n",
    "        old_german_name = 'Germany (until 1990 former territory of the FRG)'\n",
    "        new_german_name = 'Germany'\n",
    "        new_column = column.replace(old_german_name,new_german_name)\n",
    "        business_demography = business_demography.rename(index=str,columns={column:new_column})"
   ]
  },
  {
   "cell_type": "markdown",
   "metadata": {},
   "source": [
    "### Replace the colons by zeros and convert strings to numerical values\n",
    "* The dataset indicates missing data by ':' - lets replace it by zero!\n",
    "* So far the contained data consists of strings - of course we need numerical values for our exploration."
   ]
  },
  {
   "cell_type": "code",
   "execution_count": 8,
   "metadata": {
    "collapsed": true
   },
   "outputs": [],
   "source": [
    "business_demography = business_demography.replace(':',0)\n",
    "business_demography =  business_demography.apply(pd.to_numeric, args=('coerce',))\n",
    "business_demography = business_demography.fillna(0)"
   ]
  },
  {
   "cell_type": "markdown",
   "metadata": {},
   "source": [
    "### Drop the columns that should contain average data on the EU\n",
    "* By looking at the raw data you can easily see (of course you can check it as well using pandas) that the columns called 'European Union' contain no data\n",
    "* Let's drop these columns by using regex, so we get all columns containg 'European Union'!"
   ]
  },
  {
   "cell_type": "code",
   "execution_count": 9,
   "metadata": {
    "collapsed": true
   },
   "outputs": [],
   "source": [
    "business_demography.drop(list(business_demography.filter(regex = 'European Union')), axis = 1, inplace = True)"
   ]
  },
  {
   "cell_type": "markdown",
   "metadata": {},
   "source": [
    "### Drop the years 2006-2008\n",
    "* Since these years are empty too we can drop them as well!"
   ]
  },
  {
   "cell_type": "code",
   "execution_count": 10,
   "metadata": {},
   "outputs": [
    {
     "data": {
      "text/html": [
       "<div>\n",
       "<style>\n",
       "    .dataframe thead tr:only-child th {\n",
       "        text-align: right;\n",
       "    }\n",
       "\n",
       "    .dataframe thead th {\n",
       "        text-align: left;\n",
       "    }\n",
       "\n",
       "    .dataframe tbody tr th {\n",
       "        vertical-align: top;\n",
       "    }\n",
       "</style>\n",
       "<table border=\"1\" class=\"dataframe\">\n",
       "  <thead>\n",
       "    <tr style=\"text-align: right;\">\n",
       "      <th>Countries</th>\n",
       "      <th>Belgium,Total,Net business population growth - percentage,Business economy except activities of holding companies</th>\n",
       "      <th>Bulgaria,Total,Net business population growth - percentage,Business economy except activities of holding companies</th>\n",
       "      <th>Czech Republic,Total,Net business population growth - percentage,Business economy except activities of holding companies</th>\n",
       "      <th>Denmark,Total,Net business population growth - percentage,Business economy except activities of holding companies</th>\n",
       "      <th>Germany,Total,Net business population growth - percentage,Business economy except activities of holding companies</th>\n",
       "      <th>Estonia,Total,Net business population growth - percentage,Business economy except activities of holding companies</th>\n",
       "      <th>Ireland,Total,Net business population growth - percentage,Business economy except activities of holding companies</th>\n",
       "      <th>Greece,Total,Net business population growth - percentage,Business economy except activities of holding companies</th>\n",
       "      <th>Spain,Total,Net business population growth - percentage,Business economy except activities of holding companies</th>\n",
       "      <th>France,Total,Net business population growth - percentage,Business economy except activities of holding companies</th>\n",
       "      <th>...</th>\n",
       "      <th>Romania,Limited liability enterprise,Employment share of enterprise deaths: number of persons employed in the reference period (t) among enterprise deaths divided by the number of persons employed in t among the stock of active enterprises in t - percentage,Business economy except activities of holding companies</th>\n",
       "      <th>Slovenia,Limited liability enterprise,Employment share of enterprise deaths: number of persons employed in the reference period (t) among enterprise deaths divided by the number of persons employed in t among the stock of active enterprises in t - percentage,Business economy except activities of holding companies</th>\n",
       "      <th>Slovakia,Limited liability enterprise,Employment share of enterprise deaths: number of persons employed in the reference period (t) among enterprise deaths divided by the number of persons employed in t among the stock of active enterprises in t - percentage,Business economy except activities of holding companies</th>\n",
       "      <th>Finland,Limited liability enterprise,Employment share of enterprise deaths: number of persons employed in the reference period (t) among enterprise deaths divided by the number of persons employed in t among the stock of active enterprises in t - percentage,Business economy except activities of holding companies</th>\n",
       "      <th>Sweden,Limited liability enterprise,Employment share of enterprise deaths: number of persons employed in the reference period (t) among enterprise deaths divided by the number of persons employed in t among the stock of active enterprises in t - percentage,Business economy except activities of holding companies</th>\n",
       "      <th>United Kingdom,Limited liability enterprise,Employment share of enterprise deaths: number of persons employed in the reference period (t) among enterprise deaths divided by the number of persons employed in t among the stock of active enterprises in t - percentage,Business economy except activities of holding companies</th>\n",
       "      <th>Norway,Limited liability enterprise,Employment share of enterprise deaths: number of persons employed in the reference period (t) among enterprise deaths divided by the number of persons employed in t among the stock of active enterprises in t - percentage,Business economy except activities of holding companies</th>\n",
       "      <th>Switzerland,Limited liability enterprise,Employment share of enterprise deaths: number of persons employed in the reference period (t) among enterprise deaths divided by the number of persons employed in t among the stock of active enterprises in t - percentage,Business economy except activities of holding companies</th>\n",
       "      <th>Former Yugoslav Republic of Macedonia, the,Limited liability enterprise,Employment share of enterprise deaths: number of persons employed in the reference period (t) among enterprise deaths divided by the number of persons employed in t among the stock of active enterprises in t - percentage,Business economy except activities of holding companies</th>\n",
       "      <th>Turkey,Limited liability enterprise,Employment share of enterprise deaths: number of persons employed in the reference period (t) among enterprise deaths divided by the number of persons employed in t among the stock of active enterprises in t - percentage,Business economy except activities of holding companies</th>\n",
       "    </tr>\n",
       "  </thead>\n",
       "  <tbody>\n",
       "    <tr>\n",
       "      <th>2009</th>\n",
       "      <td>12.26</td>\n",
       "      <td>20.78</td>\n",
       "      <td>11.10</td>\n",
       "      <td>-4.77</td>\n",
       "      <td>-1.18</td>\n",
       "      <td>-2.52</td>\n",
       "      <td>-1.89</td>\n",
       "      <td>0.00</td>\n",
       "      <td>-2.82</td>\n",
       "      <td>5.49</td>\n",
       "      <td>...</td>\n",
       "      <td>3.92</td>\n",
       "      <td>0.00</td>\n",
       "      <td>2.18</td>\n",
       "      <td>0.41</td>\n",
       "      <td>0.78</td>\n",
       "      <td>3.34</td>\n",
       "      <td>0.29</td>\n",
       "      <td>0.0</td>\n",
       "      <td>0.0</td>\n",
       "      <td>2.55</td>\n",
       "    </tr>\n",
       "    <tr>\n",
       "      <th>2010</th>\n",
       "      <td>2.10</td>\n",
       "      <td>-1.15</td>\n",
       "      <td>3.86</td>\n",
       "      <td>1.12</td>\n",
       "      <td>0.73</td>\n",
       "      <td>-3.34</td>\n",
       "      <td>-1.91</td>\n",
       "      <td>0.00</td>\n",
       "      <td>-2.89</td>\n",
       "      <td>1.60</td>\n",
       "      <td>...</td>\n",
       "      <td>2.59</td>\n",
       "      <td>0.86</td>\n",
       "      <td>0.00</td>\n",
       "      <td>0.31</td>\n",
       "      <td>0.61</td>\n",
       "      <td>2.76</td>\n",
       "      <td>0.24</td>\n",
       "      <td>0.0</td>\n",
       "      <td>0.0</td>\n",
       "      <td>0.00</td>\n",
       "    </tr>\n",
       "    <tr>\n",
       "      <th>2011</th>\n",
       "      <td>2.39</td>\n",
       "      <td>-1.21</td>\n",
       "      <td>2.08</td>\n",
       "      <td>2.58</td>\n",
       "      <td>0.91</td>\n",
       "      <td>2.67</td>\n",
       "      <td>-3.26</td>\n",
       "      <td>0.00</td>\n",
       "      <td>-1.47</td>\n",
       "      <td>1.02</td>\n",
       "      <td>...</td>\n",
       "      <td>1.61</td>\n",
       "      <td>0.95</td>\n",
       "      <td>2.70</td>\n",
       "      <td>0.00</td>\n",
       "      <td>0.60</td>\n",
       "      <td>2.43</td>\n",
       "      <td>0.13</td>\n",
       "      <td>0.0</td>\n",
       "      <td>0.0</td>\n",
       "      <td>0.00</td>\n",
       "    </tr>\n",
       "    <tr>\n",
       "      <th>2012</th>\n",
       "      <td>1.33</td>\n",
       "      <td>1.19</td>\n",
       "      <td>-0.24</td>\n",
       "      <td>0.00</td>\n",
       "      <td>0.41</td>\n",
       "      <td>5.30</td>\n",
       "      <td>-1.86</td>\n",
       "      <td>0.00</td>\n",
       "      <td>-1.44</td>\n",
       "      <td>2.07</td>\n",
       "      <td>...</td>\n",
       "      <td>3.82</td>\n",
       "      <td>1.02</td>\n",
       "      <td>1.74</td>\n",
       "      <td>0.90</td>\n",
       "      <td>0.81</td>\n",
       "      <td>2.49</td>\n",
       "      <td>0.13</td>\n",
       "      <td>0.0</td>\n",
       "      <td>0.0</td>\n",
       "      <td>1.10</td>\n",
       "    </tr>\n",
       "    <tr>\n",
       "      <th>2013</th>\n",
       "      <td>-0.01</td>\n",
       "      <td>1.16</td>\n",
       "      <td>-1.92</td>\n",
       "      <td>-0.82</td>\n",
       "      <td>-0.85</td>\n",
       "      <td>4.36</td>\n",
       "      <td>0.00</td>\n",
       "      <td>0.00</td>\n",
       "      <td>-2.01</td>\n",
       "      <td>4.67</td>\n",
       "      <td>...</td>\n",
       "      <td>1.19</td>\n",
       "      <td>1.12</td>\n",
       "      <td>2.62</td>\n",
       "      <td>0.43</td>\n",
       "      <td>0.71</td>\n",
       "      <td>0.00</td>\n",
       "      <td>0.23</td>\n",
       "      <td>0.0</td>\n",
       "      <td>0.0</td>\n",
       "      <td>2.18</td>\n",
       "    </tr>\n",
       "    <tr>\n",
       "      <th>2014</th>\n",
       "      <td>2.29</td>\n",
       "      <td>1.62</td>\n",
       "      <td>5.52</td>\n",
       "      <td>0.77</td>\n",
       "      <td>-5.17</td>\n",
       "      <td>1.46</td>\n",
       "      <td>0.00</td>\n",
       "      <td>0.00</td>\n",
       "      <td>-0.27</td>\n",
       "      <td>7.34</td>\n",
       "      <td>...</td>\n",
       "      <td>2.86</td>\n",
       "      <td>0.95</td>\n",
       "      <td>1.65</td>\n",
       "      <td>0.32</td>\n",
       "      <td>0.58</td>\n",
       "      <td>2.43</td>\n",
       "      <td>0.10</td>\n",
       "      <td>0.0</td>\n",
       "      <td>0.0</td>\n",
       "      <td>1.21</td>\n",
       "    </tr>\n",
       "    <tr>\n",
       "      <th>2015</th>\n",
       "      <td>1.22</td>\n",
       "      <td>1.92</td>\n",
       "      <td>0.42</td>\n",
       "      <td>0.00</td>\n",
       "      <td>-0.81</td>\n",
       "      <td>2.85</td>\n",
       "      <td>4.45</td>\n",
       "      <td>-1.78</td>\n",
       "      <td>0.92</td>\n",
       "      <td>2.27</td>\n",
       "      <td>...</td>\n",
       "      <td>0.00</td>\n",
       "      <td>0.00</td>\n",
       "      <td>0.00</td>\n",
       "      <td>0.00</td>\n",
       "      <td>0.00</td>\n",
       "      <td>0.00</td>\n",
       "      <td>0.00</td>\n",
       "      <td>0.0</td>\n",
       "      <td>0.0</td>\n",
       "      <td>0.00</td>\n",
       "    </tr>\n",
       "  </tbody>\n",
       "</table>\n",
       "<p>7 rows × 512 columns</p>\n",
       "</div>"
      ],
      "text/plain": [
       "Countries  Belgium,Total,Net business population growth - percentage,Business economy except activities of holding companies  \\\n",
       "2009                                                   12.26                                                                   \n",
       "2010                                                    2.10                                                                   \n",
       "2011                                                    2.39                                                                   \n",
       "2012                                                    1.33                                                                   \n",
       "2013                                                   -0.01                                                                   \n",
       "2014                                                    2.29                                                                   \n",
       "2015                                                    1.22                                                                   \n",
       "\n",
       "Countries  Bulgaria,Total,Net business population growth - percentage,Business economy except activities of holding companies  \\\n",
       "2009                                                   20.78                                                                    \n",
       "2010                                                   -1.15                                                                    \n",
       "2011                                                   -1.21                                                                    \n",
       "2012                                                    1.19                                                                    \n",
       "2013                                                    1.16                                                                    \n",
       "2014                                                    1.62                                                                    \n",
       "2015                                                    1.92                                                                    \n",
       "\n",
       "Countries  Czech Republic,Total,Net business population growth - percentage,Business economy except activities of holding companies  \\\n",
       "2009                                                   11.10                                                                          \n",
       "2010                                                    3.86                                                                          \n",
       "2011                                                    2.08                                                                          \n",
       "2012                                                   -0.24                                                                          \n",
       "2013                                                   -1.92                                                                          \n",
       "2014                                                    5.52                                                                          \n",
       "2015                                                    0.42                                                                          \n",
       "\n",
       "Countries  Denmark,Total,Net business population growth - percentage,Business economy except activities of holding companies  \\\n",
       "2009                                                   -4.77                                                                   \n",
       "2010                                                    1.12                                                                   \n",
       "2011                                                    2.58                                                                   \n",
       "2012                                                    0.00                                                                   \n",
       "2013                                                   -0.82                                                                   \n",
       "2014                                                    0.77                                                                   \n",
       "2015                                                    0.00                                                                   \n",
       "\n",
       "Countries  Germany,Total,Net business population growth - percentage,Business economy except activities of holding companies  \\\n",
       "2009                                                   -1.18                                                                   \n",
       "2010                                                    0.73                                                                   \n",
       "2011                                                    0.91                                                                   \n",
       "2012                                                    0.41                                                                   \n",
       "2013                                                   -0.85                                                                   \n",
       "2014                                                   -5.17                                                                   \n",
       "2015                                                   -0.81                                                                   \n",
       "\n",
       "Countries  Estonia,Total,Net business population growth - percentage,Business economy except activities of holding companies  \\\n",
       "2009                                                   -2.52                                                                   \n",
       "2010                                                   -3.34                                                                   \n",
       "2011                                                    2.67                                                                   \n",
       "2012                                                    5.30                                                                   \n",
       "2013                                                    4.36                                                                   \n",
       "2014                                                    1.46                                                                   \n",
       "2015                                                    2.85                                                                   \n",
       "\n",
       "Countries  Ireland,Total,Net business population growth - percentage,Business economy except activities of holding companies  \\\n",
       "2009                                                   -1.89                                                                   \n",
       "2010                                                   -1.91                                                                   \n",
       "2011                                                   -3.26                                                                   \n",
       "2012                                                   -1.86                                                                   \n",
       "2013                                                    0.00                                                                   \n",
       "2014                                                    0.00                                                                   \n",
       "2015                                                    4.45                                                                   \n",
       "\n",
       "Countries  Greece,Total,Net business population growth - percentage,Business economy except activities of holding companies  \\\n",
       "2009                                                    0.00                                                                  \n",
       "2010                                                    0.00                                                                  \n",
       "2011                                                    0.00                                                                  \n",
       "2012                                                    0.00                                                                  \n",
       "2013                                                    0.00                                                                  \n",
       "2014                                                    0.00                                                                  \n",
       "2015                                                   -1.78                                                                  \n",
       "\n",
       "Countries  Spain,Total,Net business population growth - percentage,Business economy except activities of holding companies  \\\n",
       "2009                                                   -2.82                                                                 \n",
       "2010                                                   -2.89                                                                 \n",
       "2011                                                   -1.47                                                                 \n",
       "2012                                                   -1.44                                                                 \n",
       "2013                                                   -2.01                                                                 \n",
       "2014                                                   -0.27                                                                 \n",
       "2015                                                    0.92                                                                 \n",
       "\n",
       "Countries  France,Total,Net business population growth - percentage,Business economy except activities of holding companies  \\\n",
       "2009                                                    5.49                                                                  \n",
       "2010                                                    1.60                                                                  \n",
       "2011                                                    1.02                                                                  \n",
       "2012                                                    2.07                                                                  \n",
       "2013                                                    4.67                                                                  \n",
       "2014                                                    7.34                                                                  \n",
       "2015                                                    2.27                                                                  \n",
       "\n",
       "Countries                                                                                                                                                            ...                                                                                                                                                             \\\n",
       "2009                                                                                                                                                                 ...                                                                                                                                                              \n",
       "2010                                                                                                                                                                 ...                                                                                                                                                              \n",
       "2011                                                                                                                                                                 ...                                                                                                                                                              \n",
       "2012                                                                                                                                                                 ...                                                                                                                                                              \n",
       "2013                                                                                                                                                                 ...                                                                                                                                                              \n",
       "2014                                                                                                                                                                 ...                                                                                                                                                              \n",
       "2015                                                                                                                                                                 ...                                                                                                                                                              \n",
       "\n",
       "Countries  Romania,Limited liability enterprise,Employment share of enterprise deaths: number of persons employed in the reference period (t) among enterprise deaths divided by the number of persons employed in t among the stock of active enterprises in t - percentage,Business economy except activities of holding companies  \\\n",
       "2009                                                    3.92                                                                                                                                                                                                                                                                           \n",
       "2010                                                    2.59                                                                                                                                                                                                                                                                           \n",
       "2011                                                    1.61                                                                                                                                                                                                                                                                           \n",
       "2012                                                    3.82                                                                                                                                                                                                                                                                           \n",
       "2013                                                    1.19                                                                                                                                                                                                                                                                           \n",
       "2014                                                    2.86                                                                                                                                                                                                                                                                           \n",
       "2015                                                    0.00                                                                                                                                                                                                                                                                           \n",
       "\n",
       "Countries  Slovenia,Limited liability enterprise,Employment share of enterprise deaths: number of persons employed in the reference period (t) among enterprise deaths divided by the number of persons employed in t among the stock of active enterprises in t - percentage,Business economy except activities of holding companies  \\\n",
       "2009                                                    0.00                                                                                                                                                                                                                                                                            \n",
       "2010                                                    0.86                                                                                                                                                                                                                                                                            \n",
       "2011                                                    0.95                                                                                                                                                                                                                                                                            \n",
       "2012                                                    1.02                                                                                                                                                                                                                                                                            \n",
       "2013                                                    1.12                                                                                                                                                                                                                                                                            \n",
       "2014                                                    0.95                                                                                                                                                                                                                                                                            \n",
       "2015                                                    0.00                                                                                                                                                                                                                                                                            \n",
       "\n",
       "Countries  Slovakia,Limited liability enterprise,Employment share of enterprise deaths: number of persons employed in the reference period (t) among enterprise deaths divided by the number of persons employed in t among the stock of active enterprises in t - percentage,Business economy except activities of holding companies  \\\n",
       "2009                                                    2.18                                                                                                                                                                                                                                                                            \n",
       "2010                                                    0.00                                                                                                                                                                                                                                                                            \n",
       "2011                                                    2.70                                                                                                                                                                                                                                                                            \n",
       "2012                                                    1.74                                                                                                                                                                                                                                                                            \n",
       "2013                                                    2.62                                                                                                                                                                                                                                                                            \n",
       "2014                                                    1.65                                                                                                                                                                                                                                                                            \n",
       "2015                                                    0.00                                                                                                                                                                                                                                                                            \n",
       "\n",
       "Countries  Finland,Limited liability enterprise,Employment share of enterprise deaths: number of persons employed in the reference period (t) among enterprise deaths divided by the number of persons employed in t among the stock of active enterprises in t - percentage,Business economy except activities of holding companies  \\\n",
       "2009                                                    0.41                                                                                                                                                                                                                                                                           \n",
       "2010                                                    0.31                                                                                                                                                                                                                                                                           \n",
       "2011                                                    0.00                                                                                                                                                                                                                                                                           \n",
       "2012                                                    0.90                                                                                                                                                                                                                                                                           \n",
       "2013                                                    0.43                                                                                                                                                                                                                                                                           \n",
       "2014                                                    0.32                                                                                                                                                                                                                                                                           \n",
       "2015                                                    0.00                                                                                                                                                                                                                                                                           \n",
       "\n",
       "Countries  Sweden,Limited liability enterprise,Employment share of enterprise deaths: number of persons employed in the reference period (t) among enterprise deaths divided by the number of persons employed in t among the stock of active enterprises in t - percentage,Business economy except activities of holding companies  \\\n",
       "2009                                                    0.78                                                                                                                                                                                                                                                                          \n",
       "2010                                                    0.61                                                                                                                                                                                                                                                                          \n",
       "2011                                                    0.60                                                                                                                                                                                                                                                                          \n",
       "2012                                                    0.81                                                                                                                                                                                                                                                                          \n",
       "2013                                                    0.71                                                                                                                                                                                                                                                                          \n",
       "2014                                                    0.58                                                                                                                                                                                                                                                                          \n",
       "2015                                                    0.00                                                                                                                                                                                                                                                                          \n",
       "\n",
       "Countries  United Kingdom,Limited liability enterprise,Employment share of enterprise deaths: number of persons employed in the reference period (t) among enterprise deaths divided by the number of persons employed in t among the stock of active enterprises in t - percentage,Business economy except activities of holding companies  \\\n",
       "2009                                                    3.34                                                                                                                                                                                                                                                                                  \n",
       "2010                                                    2.76                                                                                                                                                                                                                                                                                  \n",
       "2011                                                    2.43                                                                                                                                                                                                                                                                                  \n",
       "2012                                                    2.49                                                                                                                                                                                                                                                                                  \n",
       "2013                                                    0.00                                                                                                                                                                                                                                                                                  \n",
       "2014                                                    2.43                                                                                                                                                                                                                                                                                  \n",
       "2015                                                    0.00                                                                                                                                                                                                                                                                                  \n",
       "\n",
       "Countries  Norway,Limited liability enterprise,Employment share of enterprise deaths: number of persons employed in the reference period (t) among enterprise deaths divided by the number of persons employed in t among the stock of active enterprises in t - percentage,Business economy except activities of holding companies  \\\n",
       "2009                                                    0.29                                                                                                                                                                                                                                                                          \n",
       "2010                                                    0.24                                                                                                                                                                                                                                                                          \n",
       "2011                                                    0.13                                                                                                                                                                                                                                                                          \n",
       "2012                                                    0.13                                                                                                                                                                                                                                                                          \n",
       "2013                                                    0.23                                                                                                                                                                                                                                                                          \n",
       "2014                                                    0.10                                                                                                                                                                                                                                                                          \n",
       "2015                                                    0.00                                                                                                                                                                                                                                                                          \n",
       "\n",
       "Countries  Switzerland,Limited liability enterprise,Employment share of enterprise deaths: number of persons employed in the reference period (t) among enterprise deaths divided by the number of persons employed in t among the stock of active enterprises in t - percentage,Business economy except activities of holding companies  \\\n",
       "2009                                                     0.0                                                                                                                                                                                                                                                                               \n",
       "2010                                                     0.0                                                                                                                                                                                                                                                                               \n",
       "2011                                                     0.0                                                                                                                                                                                                                                                                               \n",
       "2012                                                     0.0                                                                                                                                                                                                                                                                               \n",
       "2013                                                     0.0                                                                                                                                                                                                                                                                               \n",
       "2014                                                     0.0                                                                                                                                                                                                                                                                               \n",
       "2015                                                     0.0                                                                                                                                                                                                                                                                               \n",
       "\n",
       "Countries  Former Yugoslav Republic of Macedonia, the,Limited liability enterprise,Employment share of enterprise deaths: number of persons employed in the reference period (t) among enterprise deaths divided by the number of persons employed in t among the stock of active enterprises in t - percentage,Business economy except activities of holding companies  \\\n",
       "2009                                                     0.0                                                                                                                                                                                                                                                                                                              \n",
       "2010                                                     0.0                                                                                                                                                                                                                                                                                                              \n",
       "2011                                                     0.0                                                                                                                                                                                                                                                                                                              \n",
       "2012                                                     0.0                                                                                                                                                                                                                                                                                                              \n",
       "2013                                                     0.0                                                                                                                                                                                                                                                                                                              \n",
       "2014                                                     0.0                                                                                                                                                                                                                                                                                                              \n",
       "2015                                                     0.0                                                                                                                                                                                                                                                                                                              \n",
       "\n",
       "Countries  Turkey,Limited liability enterprise,Employment share of enterprise deaths: number of persons employed in the reference period (t) among enterprise deaths divided by the number of persons employed in t among the stock of active enterprises in t - percentage,Business economy except activities of holding companies  \n",
       "2009                                                    2.55                                                                                                                                                                                                                                                                         \n",
       "2010                                                    0.00                                                                                                                                                                                                                                                                         \n",
       "2011                                                    0.00                                                                                                                                                                                                                                                                         \n",
       "2012                                                    1.10                                                                                                                                                                                                                                                                         \n",
       "2013                                                    2.18                                                                                                                                                                                                                                                                         \n",
       "2014                                                    1.21                                                                                                                                                                                                                                                                         \n",
       "2015                                                    0.00                                                                                                                                                                                                                                                                         \n",
       "\n",
       "[7 rows x 512 columns]"
      ]
     },
     "execution_count": 10,
     "metadata": {},
     "output_type": "execute_result"
    }
   ],
   "source": [
    "business_demography.drop('2006').drop('2007').drop('2008')"
   ]
  },
  {
   "cell_type": "code",
   "execution_count": 11,
   "metadata": {
    "collapsed": true
   },
   "outputs": [],
   "source": [
    "## Plot the "
   ]
  },
  {
   "cell_type": "code",
   "execution_count": 20,
   "metadata": {
    "scrolled": true
   },
   "outputs": [
    {
     "data": {
      "text/html": [
       "<iframe id=\"igraph\" scrolling=\"no\" style=\"border:none;\" seamless=\"seamless\" src=\"https://plot.ly/~chris2409/86.embed\" height=\"525px\" width=\"100%\"></iframe>"
      ],
      "text/plain": [
       "<plotly.tools.PlotlyDisplay object>"
      ]
     },
     "execution_count": 20,
     "metadata": {},
     "output_type": "execute_result"
    }
   ],
   "source": [
    "\n",
    "sole = business_demography['Germany,Sole proprietorship,Net business population growth - percentage,Business economy except activities of holding companies']    \n",
    "total = business_demography['Germany,Total,Net business population growth - percentage,Business economy except activities of holding companies']\n",
    "partnership = business_demography['Germany,Partnership, co-operatives, associations, etc.,Net business population growth - percentage,Business economy except activities of holding companies']\n",
    "limiteds = business_demography['Germany,Limited liability enterprise,Net business population growth - percentage,Business economy except activities of holding companies']\n",
    "\n",
    "\n",
    "\n",
    "sole_proprietorship = go.Scatter(x=business_demography.index, y=sole, name='Sole proprietorship')\n",
    "total_growth = go.Scatter(x=business_demography.index, y=total, name='Total growth')\n",
    "partnerships = go.Scatter(x=business_demography.index, y=partnership, name='Partnerships & Associates')\n",
    "limiteds = go.Scatter(x=business_demography.index, y=limiteds, name='Limited liability')\n",
    "\n",
    "data = [sole_proprietorship,total_growth,partnerships,limiteds]\n",
    "\n",
    "layout = dict(\n",
    "    title = \"Growth comparison of different legal forms in Germany\",\n",
    "    xaxis = dict(\n",
    "        range = ['2009','2015'])\n",
    ")\n",
    "\n",
    "fig = dict(data=data, layout=layout)\n",
    "py.iplot(fig)"
   ]
  },
  {
   "cell_type": "markdown",
   "metadata": {},
   "source": [
    "## The growth of each legalform during the years 2009-2015"
   ]
  },
  {
   "cell_type": "code",
   "execution_count": 21,
   "metadata": {
    "scrolled": false
   },
   "outputs": [
    {
     "data": {
      "text/html": [
       "<iframe id=\"igraph\" scrolling=\"no\" style=\"border:none;\" seamless=\"seamless\" src=\"https://plot.ly/~chris2409/88.embed\" height=\"525px\" width=\"100%\"></iframe>"
      ],
      "text/plain": [
       "<plotly.tools.PlotlyDisplay object>"
      ]
     },
     "execution_count": 21,
     "metadata": {},
     "output_type": "execute_result"
    }
   ],
   "source": [
    "business_demography['Sole proprietorship growth'] = business_demography.filter(regex='Sole proprietorship,Net business population growth', axis=1).mean(axis=1)\n",
    "business_demography['Total growth in the EU'] = business_demography.filter(regex='Total,Net business population growth', axis=1).mean(axis=1)\n",
    "business_demography['Partnership growth'] = business_demography.filter(regex='Partnership, co-operatives, associations, etc.,Net business population growth', axis=1).mean(axis=1)\n",
    "business_demography['Limiteds growth'] = business_demography.filter(regex='Limited liability enterprise,Net business population growth', axis=1).mean(axis=1)\n",
    "\n",
    "\n",
    "\n",
    "sole_proprietorship = go.Scatter(x=business_demography.index, y=business_demography['Sole proprietorship growth'], name='Sole proprietorship')\n",
    "total_growth = go.Scatter(x=business_demography.index, y=business_demography['Total growth in the EU'], name='Total growth')\n",
    "partnerships = go.Scatter(x=business_demography.index, y=business_demography['Partnership growth'], name='Partnerships & Associates')\n",
    "limiteds = go.Scatter(x=business_demography.index, y=business_demography['Limiteds growth'], name='Limited liability')\n",
    "\n",
    "data = [sole_proprietorship,total_growth,partnerships,limiteds]\n",
    "\n",
    "layout = dict(\n",
    "    title = \"Growth comparison of different legal forms across the EU\",\n",
    "    xaxis = dict(\n",
    "        range = ['2009','2015'])\n",
    ")\n",
    "\n",
    "fig = dict(data=data, layout=layout)\n",
    "py.iplot(fig)"
   ]
  },
  {
   "cell_type": "markdown",
   "metadata": {},
   "source": [
    "## Let's look at correlations\n",
    "\n",
    "### Get all unique country names \n",
    "*  it is useful to extract the list of unique countris that are contained in the data"
   ]
  },
  {
   "cell_type": "code",
   "execution_count": 22,
   "metadata": {
    "collapsed": true
   },
   "outputs": [],
   "source": [
    "countries_unique = []\n",
    "for column in business_demography.columns:\n",
    "    column_content = str(column).split(\",\")\n",
    "    countries_unique.append(column_content[0])\n",
    "countries_unique = list(set(countries_unique))"
   ]
  },
  {
   "cell_type": "code",
   "execution_count": 23,
   "metadata": {
    "scrolled": true
   },
   "outputs": [
    {
     "data": {
      "image/png": "[encoded data removed]",
      "text/plain": [
       "<matplotlib.figure.Figure at 0x7f1cb0a1a940>"
      ]
     },
     "metadata": {},
     "output_type": "display_data"
    }
   ],
   "source": [
    "import seaborn as sns\n",
    "import matplotlib.pyplot as plt\n",
    "\n",
    "sole_proprietorship = business_demography.filter(regex='Sole proprietorship,Net business population growth')\n",
    "plt.figure(figsize=(16,12))\n",
    "plt.title('Pearson correlation of sole proprietorship growth', y=1.05, size=15)\n",
    "plot = sns.heatmap(sole_proprietorship.corr(), xticklabels=countries_unique, yticklabels=countries_unique,linewidths=0.1,vmax=1.0, square=True, linecolor='white')\n",
    "plt.show()\n"
   ]
  },
  {
   "cell_type": "markdown",
   "metadata": {},
   "source": [
    "## Look at the average total net growth of businesses in the EU between 2009 and 2015\n",
    "\n",
    "* Calculate the average net growth of businesse for each country in the period of measurement 2009-2015\n",
    "* To visualize the data on a choropleth map the standard country codes are attached to each dataframe entry \n",
    "    * Country codes consist of two or three letters: alpha2 and alpha3  --> Read about [alpha3](https://en.wikipedia.org/wiki/ISO_3166-1_alpha-3)\n",
    "    * It seems that the plotly choropleth only accepts alpha3 (Probably i have overlooked this in the reference)\n",
    "    \n",
    "In the first step we will create a new dataframe where we\n",
    "* we choose the columns containing 'Total,Net business population growth' \n",
    "* map the country name to its corresponding country code\n",
    "* Calculate the mean of the total growth during the period of measurement 2009 - 2015"
   ]
  },
  {
   "cell_type": "code",
   "execution_count": 24,
   "metadata": {
    "collapsed": true
   },
   "outputs": [],
   "source": [
    "mean_growth = []\n",
    "country_names = []\n",
    "country_codes = []\n",
    "\n",
    "mapping = {country.name: country.alpha3 for country in pycountry.countries}\n",
    "\n",
    "for column in business_demography.columns:\n",
    "    if 'Total,Net business population growth' in column:\n",
    "        new_column_name = column.split(',')[0]\n",
    "        #country_names.append(new_column_name)\n",
    "        mean_growth.append(business_demography[column].mean())\n",
    "        country_codes.append((new_column_name, mapping.get(new_column_name, 'No country found')))\n",
    "\n",
    "mean_growth_country = pd.DataFrame(np.column_stack([country_codes,mean_growth]), columns=['Country', 'Code', 'Mean growth'])"
   ]
  },
  {
   "cell_type": "markdown",
   "metadata": {
    "collapsed": true
   },
   "source": [
    "## Now we can plot `mean_growth_country` as a Plotly bar diagram."
   ]
  },
  {
   "cell_type": "code",
   "execution_count": 25,
   "metadata": {
    "scrolled": true
   },
   "outputs": [
    {
     "data": {
      "text/html": [
       "<iframe id=\"igraph\" scrolling=\"no\" style=\"border:none;\" seamless=\"seamless\" src=\"https://plot.ly/~chris2409/62.embed\" height=\"525px\" width=\"100%\"></iframe>"
      ],
      "text/plain": [
       "<plotly.tools.PlotlyDisplay object>"
      ]
     },
     "execution_count": 25,
     "metadata": {},
     "output_type": "execute_result"
    }
   ],
   "source": [
    "data = [go.Bar(\n",
    "            x = mean_growth_country['Country'],\n",
    "            y = mean_growth_country['Mean growth']\n",
    "        \n",
    "    )]\n",
    "layout = go.Layout(\n",
    "    title='Business growth between 2009 and 2015',\n",
    ")\n",
    "\n",
    "fig = go.Figure(layout=layout)\n",
    "py.iplot(data, filename='basic-bar')"
   ]
  },
  {
   "cell_type": "markdown",
   "metadata": {
    "collapsed": true
   },
   "source": [
    "## Because we have the correct country codes we can also show the same information as a choropleth map using Plotly"
   ]
  },
  {
   "cell_type": "code",
   "execution_count": 26,
   "metadata": {
    "scrolled": true
   },
   "outputs": [
    {
     "data": {
      "text/html": [
       "<iframe id=\"igraph\" scrolling=\"no\" style=\"border:none;\" seamless=\"seamless\" src=\"https://plot.ly/~chris2409/64.embed\" height=\"525px\" width=\"100%\"></iframe>"
      ],
      "text/plain": [
       "<plotly.tools.PlotlyDisplay object>"
      ]
     },
     "execution_count": 26,
     "metadata": {},
     "output_type": "execute_result"
    }
   ],
   "source": [
    "\n",
    "data = [ dict(\n",
    "        type = 'choropleth',\n",
    "        locations = mean_growth_country['Code'],\n",
    "        z = mean_growth_country['Mean growth'],\n",
    "        text = mean_growth_country['Country'],\n",
    "        colorscale = [[0,\"rgb(5, 10, 172)\"],[0.35,\"rgb(40, 60, 190)\"],[0.5,\"rgb(70, 100, 245)\"],\\\n",
    "            [0.6,\"rgb(90, 120, 245)\"],[0.7,\"rgb(106, 137, 247)\"],[1,\"rgb(220, 220, 220)\"]],\n",
    "        autocolorscale = False,\n",
    "        reversescale = True,\n",
    "        marker = dict(\n",
    "            line = dict (\n",
    "                color = 'rgb(180,180,180)',\n",
    "                width = 0.5\n",
    "            ) ),\n",
    "        colorbar = dict(\n",
    "            autotick = False,\n",
    "            tickprefix = '%',\n",
    "            title = 'Average growth of business population'),\n",
    "      ) ]\n",
    "\n",
    "layout = dict(\n",
    "    title = 'Average growth of business population in the years 2009-2015',\n",
    "    geo = dict(\n",
    "        showframe = False,\n",
    "        showcoastlines = False,\n",
    "        projection = dict(\n",
    "            type = 'Mercator'\n",
    "        )\n",
    "    )\n",
    ")\n",
    "\n",
    "fig = dict( data=data, layout=layout )\n",
    "py.iplot( fig, validate=False, filename='d3-world-map' )"
   ]
  },
  {
   "cell_type": "code",
   "execution_count": null,
   "metadata": {
    "collapsed": true
   },
   "outputs": [],
   "source": []
  },
  {
   "cell_type": "code",
   "execution_count": null,
   "metadata": {
    "collapsed": true
   },
   "outputs": [],
   "source": []
  },
  {
   "cell_type": "code",
   "execution_count": null,
   "metadata": {
    "collapsed": true
   },
   "outputs": [],
   "source": []
  }
 ],
 "metadata": {
  "kernelspec": {
   "display_name": "Python 3",
   "language": "python",
   "name": "python3"
  },
  "language_info": {
   "codemirror_mode": {
    "name": "ipython",
    "version": 3
   },
   "file_extension": ".py",
   "mimetype": "text/x-python",
   "name": "python",
   "nbconvert_exporter": "python",
   "pygments_lexer": "ipython3",
   "version": "3.6.3"
  }
 },
 "nbformat": 4,
 "nbformat_minor": 2
}
