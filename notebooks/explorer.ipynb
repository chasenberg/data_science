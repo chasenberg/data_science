{
 "cells": [
  {
   "cell_type": "code",
   "execution_count": 1,
   "metadata": {
    "collapsed": true
   },
   "outputs": [],
   "source": [
    "import pandas as pd"
   ]
  },
  {
   "cell_type": "code",
   "execution_count": 2,
   "metadata": {},
   "outputs": [
    {
     "name": "stdout",
     "output_type": "stream",
     "text": [
      "['GEO,LEG_FORM,INDIC_SB,NACE_R2\\\\TIME', '2006', '2007', '2008', '2009', '2010', '2011', '2012', '2013', '2014', '2015']\n"
     ]
    }
   ],
   "source": [
    "#UserInfo.tsv\n",
    "business_by_demography =pd.read_csv('/home/chris/datasets/european_union/test.tsv',delimiter='\\t',encoding='utf-8')\n",
    "print(list(business_by_demography.columns.values)) #file header"
   ]
  },
  {
   "cell_type": "code",
   "execution_count": 3,
   "metadata": {
    "scrolled": false
   },
   "outputs": [
    {
     "name": "stdout",
     "output_type": "stream",
     "text": [
      "                  GEO,LEG_FORM,INDIC_SB,NACE_R2\\TIME 2006 2007 2008     2009  \\\n",
      "0  European Union (aggregate changing according t...    :    :    :        :   \n",
      "1  European Union (28 countries),Total,Net busine...    :    :    :        :   \n",
      "2  European Union (27 countries),Total,Net busine...    :    :    :        :   \n",
      "3  Belgium,Total,Net business population growth -...    :    :    :  12.26 b   \n",
      "4  Bulgaria,Total,Net business population growth ...    :    :    :    20.78   \n",
      "\n",
      "    2010   2011  2012   2013  2014  2015  \n",
      "0      :      :     :      :     :     :  \n",
      "1      :      :     :      :     :     :  \n",
      "2      :      :     :      :     :     :  \n",
      "3   2.10   2.39  1.33  -0.01  2.29  1.22  \n",
      "4  -1.15  -1.21  1.19   1.16  1.62  1.92  \n"
     ]
    }
   ],
   "source": [
    "print(business_by_demography.head(5)) #last N rows"
   ]
  },
  {
   "cell_type": "markdown",
   "metadata": {},
   "source": [
    "## Transpose table and generate new vertical index"
   ]
  },
  {
   "cell_type": "code",
   "execution_count": 4,
   "metadata": {
    "collapsed": true
   },
   "outputs": [],
   "source": [
    "#Fill empty cells with zeros\n",
    "business_by_demography = business_by_demography.fillna(0)\n",
    "business_by_demography.set_index('GEO,LEG_FORM,INDIC_SB,NACE_R2\\TIME',inplace=True)\n",
    "business_by_demography = business_by_demography.transpose()"
   ]
  },
  {
   "cell_type": "markdown",
   "metadata": {},
   "source": [
    "## There are certain flags in the table to indicate special features of the data\n",
    "\n",
    "### Available flags\n",
    "* b\tbreak in time series\n",
    "* c\tconfidential\n",
    "* d\tdefinition differs, see metadata\n",
    "* e\testimated\n",
    "* f\tforecast\n",
    "* i\tsee metadata (phased out)\n",
    "* n\tnot significant\n",
    "* p\tprovisional\n",
    "* r\trevised\n",
    "* s\tEurostat estimate (phased out)\n",
    "* u\tlow reliability\n",
    "* z\tnot applicable\n",
    "\n",
    "It is not recommendable in general to drop the information contained by these flags, but for first exploration purposes it should not do too much harm. The flags can easily remove by filling them all into a list and strip them by looping over this list. "
   ]
  },
  {
   "cell_type": "code",
   "execution_count": 5,
   "metadata": {
    "collapsed": true
   },
   "outputs": [],
   "source": [
    "flags = ['b', 'c', 'd','e','f','i','n','p','r','s','u','z']"
   ]
  },
  {
   "cell_type": "code",
   "execution_count": 6,
   "metadata": {
    "collapsed": true,
    "scrolled": true
   },
   "outputs": [],
   "source": [
    "for column in business_by_demography.columns:  \n",
    "    column = str(column)\n",
    "    for flag in flags:\n",
    "        business_by_demography[column] = business_by_demography[column].str.strip(flag)"
   ]
  },
  {
   "cell_type": "markdown",
   "metadata": {},
   "source": [
    "## Replace the lengthy name of Germany"
   ]
  },
  {
   "cell_type": "code",
   "execution_count": 7,
   "metadata": {
    "collapsed": true
   },
   "outputs": [],
   "source": [
    "for column in business_by_demography.columns:  \n",
    "    column = str(column)\n",
    "    column_content = column.split(',')[0]\n",
    "    if 'Germany' in column_content:\n",
    "        old_german_name = 'Germany (until 1990 former territory of the FRG)'\n",
    "        new_german_name = 'Germany'\n",
    "        new_column = column.replace(old_german_name,new_german_name)\n",
    "        business_by_demography = business_by_demography.rename(index=str,columns={column:new_column})"
   ]
  },
  {
   "cell_type": "markdown",
   "metadata": {},
   "source": [
    "## Replace the colons by zeros"
   ]
  },
  {
   "cell_type": "code",
   "execution_count": 8,
   "metadata": {
    "collapsed": true
   },
   "outputs": [],
   "source": [
    "business_by_demography = business_by_demography.replace(':',0)"
   ]
  },
  {
   "cell_type": "code",
   "execution_count": 9,
   "metadata": {
    "collapsed": true,
    "scrolled": true
   },
   "outputs": [],
   "source": [
    "business_by_demography =  business_by_demography.apply(pd.to_numeric, args=('coerce',))\n",
    "business_by_demography = business_by_demography.fillna(0)"
   ]
  },
  {
   "cell_type": "markdown",
   "metadata": {},
   "source": [
    "## Get all unique country names"
   ]
  },
  {
   "cell_type": "code",
   "execution_count": 10,
   "metadata": {
    "collapsed": true
   },
   "outputs": [],
   "source": [
    "countries_unique = []\n",
    "for column in business_by_demography.columns:\n",
    "    column_content = str(column).split(\",\")\n",
    "    countries_unique.append(column_content[0])\n",
    "countries_unique = list(set(countries_unique))\n",
    "    "
   ]
  },
  {
   "cell_type": "code",
   "execution_count": 11,
   "metadata": {
    "scrolled": true
   },
   "outputs": [
    {
     "data": {
      "text/plain": [
       "['Slovenia',\n",
       " 'Finland',\n",
       " 'United Kingdom',\n",
       " 'Poland',\n",
       " 'European Union (28 countries)',\n",
       " 'Turkey',\n",
       " 'Latvia',\n",
       " 'European Union (27 countries)',\n",
       " 'Germany',\n",
       " 'Bulgaria',\n",
       " 'Romania',\n",
       " 'Hungary',\n",
       " 'Belgium',\n",
       " 'European Union (aggregate changing according to the context)',\n",
       " 'Former Yugoslav Republic of Macedonia',\n",
       " 'Cyprus',\n",
       " 'Malta',\n",
       " 'Czech Republic',\n",
       " 'Estonia',\n",
       " 'Netherlands',\n",
       " 'Austria',\n",
       " 'Luxembourg',\n",
       " 'Portugal',\n",
       " 'Slovakia',\n",
       " 'Greece',\n",
       " 'Lithuania',\n",
       " 'Ireland',\n",
       " 'Spain',\n",
       " 'Norway',\n",
       " 'Denmark',\n",
       " 'France',\n",
       " 'Croatia',\n",
       " 'Sweden',\n",
       " 'Italy',\n",
       " 'Switzerland']"
      ]
     },
     "execution_count": 11,
     "metadata": {},
     "output_type": "execute_result"
    }
   ],
   "source": [
    "countries_unique"
   ]
  },
  {
   "cell_type": "code",
   "execution_count": 12,
   "metadata": {
    "collapsed": true
   },
   "outputs": [],
   "source": [
    "import re\n",
    "df = {}\n",
    "\n",
    "for country_name in countries_unique:\n",
    "    df[country_name] = business_by_demography.filter(regex=country_name)"
   ]
  },
  {
   "cell_type": "code",
   "execution_count": 13,
   "metadata": {},
   "outputs": [
    {
     "data": {
      "text/html": [
       "<div>\n",
       "<style>\n",
       "    .dataframe thead tr:only-child th {\n",
       "        text-align: right;\n",
       "    }\n",
       "\n",
       "    .dataframe thead th {\n",
       "        text-align: left;\n",
       "    }\n",
       "\n",
       "    .dataframe tbody tr th {\n",
       "        vertical-align: top;\n",
       "    }\n",
       "</style>\n",
       "<table border=\"1\" class=\"dataframe\">\n",
       "  <thead>\n",
       "    <tr style=\"text-align: right;\">\n",
       "      <th>GEO,LEG_FORM,INDIC_SB,NACE_R2\\TIME</th>\n",
       "      <th>Germany,Total,Net business population growth - percentage,Business economy except activities of holding companies</th>\n",
       "      <th>Germany,Total,Business churn: birth rate + death rate - percentage,Business economy except activities of holding companies</th>\n",
       "      <th>Germany,Total,Death rate: number of enterprise deaths in the reference period (t) divided by the number of enterprises active in t - percentage,Business economy except activities of holding companies</th>\n",
       "      <th>Germany,Total,Employment share of enterprise deaths: number of persons employed in the reference period (t) among enterprise deaths divided by the number of persons employed in t among the stock of active enterprises in t - percentage,Business economy except activities of holding companies</th>\n",
       "      <th>Germany,Sole proprietorship,Net business population growth - percentage,Business economy except activities of holding companies</th>\n",
       "      <th>Germany,Sole proprietorship,Business churn: birth rate + death rate - percentage,Business economy except activities of holding companies</th>\n",
       "      <th>Germany,Sole proprietorship,Death rate: number of enterprise deaths in the reference period (t) divided by the number of enterprises active in t - percentage,Business economy except activities of holding companies</th>\n",
       "      <th>Germany,Sole proprietorship,Employment share of enterprise deaths: number of persons employed in the reference period (t) among enterprise deaths divided by the number of persons employed in t among the stock of active enterprises in t - percentage,Business economy except activities of holding companies</th>\n",
       "      <th>Germany,Partnership, co-operatives, associations, etc.,Net business population growth - percentage,Business economy except activities of holding companies</th>\n",
       "      <th>Germany,Partnership, co-operatives, associations, etc.,Business churn: birth rate + death rate - percentage,Business economy except activities of holding companies</th>\n",
       "      <th>Germany,Partnership, co-operatives, associations, etc.,Death rate: number of enterprise deaths in the reference period (t) divided by the number of enterprises active in t - percentage,Business economy except activities of holding companies</th>\n",
       "      <th>Germany,Partnership, co-operatives, associations, etc.,Employment share of enterprise deaths: number of persons employed in the reference period (t) among enterprise deaths divided by the number of persons employed in t among the stock of active enterprises in t - percentage,Business economy except activities of holding companies</th>\n",
       "      <th>Germany,Limited liability enterprise,Net business population growth - percentage,Business economy except activities of holding companies</th>\n",
       "      <th>Germany,Limited liability enterprise,Business churn: birth rate + death rate - percentage,Business economy except activities of holding companies</th>\n",
       "      <th>Germany,Limited liability enterprise,Death rate: number of enterprise deaths in the reference period (t) divided by the number of enterprises active in t - percentage,Business economy except activities of holding companies</th>\n",
       "      <th>Germany,Limited liability enterprise,Employment share of enterprise deaths: number of persons employed in the reference period (t) among enterprise deaths divided by the number of persons employed in t among the stock of active enterprises in t - percentage,Business economy except activities of holding companies</th>\n",
       "    </tr>\n",
       "  </thead>\n",
       "  <tbody>\n",
       "    <tr>\n",
       "      <th>2006</th>\n",
       "      <td>0.00</td>\n",
       "      <td>0.00</td>\n",
       "      <td>0.00</td>\n",
       "      <td>0.00</td>\n",
       "      <td>0.00</td>\n",
       "      <td>0.00</td>\n",
       "      <td>0.00</td>\n",
       "      <td>0.00</td>\n",
       "      <td>0.00</td>\n",
       "      <td>0.00</td>\n",
       "      <td>0.00</td>\n",
       "      <td>0.00</td>\n",
       "      <td>0.00</td>\n",
       "      <td>0.00</td>\n",
       "      <td>0.00</td>\n",
       "      <td>0.00</td>\n",
       "    </tr>\n",
       "    <tr>\n",
       "      <th>2007</th>\n",
       "      <td>0.00</td>\n",
       "      <td>0.00</td>\n",
       "      <td>0.00</td>\n",
       "      <td>0.00</td>\n",
       "      <td>0.00</td>\n",
       "      <td>0.00</td>\n",
       "      <td>0.00</td>\n",
       "      <td>0.00</td>\n",
       "      <td>0.00</td>\n",
       "      <td>0.00</td>\n",
       "      <td>0.00</td>\n",
       "      <td>0.00</td>\n",
       "      <td>0.00</td>\n",
       "      <td>0.00</td>\n",
       "      <td>0.00</td>\n",
       "      <td>0.00</td>\n",
       "    </tr>\n",
       "    <tr>\n",
       "      <th>2008</th>\n",
       "      <td>0.00</td>\n",
       "      <td>0.00</td>\n",
       "      <td>0.00</td>\n",
       "      <td>0.00</td>\n",
       "      <td>0.00</td>\n",
       "      <td>0.00</td>\n",
       "      <td>0.00</td>\n",
       "      <td>0.00</td>\n",
       "      <td>0.00</td>\n",
       "      <td>0.00</td>\n",
       "      <td>0.00</td>\n",
       "      <td>0.00</td>\n",
       "      <td>0.00</td>\n",
       "      <td>0.00</td>\n",
       "      <td>0.00</td>\n",
       "      <td>0.00</td>\n",
       "    </tr>\n",
       "    <tr>\n",
       "      <th>2009</th>\n",
       "      <td>-1.18</td>\n",
       "      <td>17.21</td>\n",
       "      <td>8.90</td>\n",
       "      <td>1.39</td>\n",
       "      <td>-2.26</td>\n",
       "      <td>18.79</td>\n",
       "      <td>10.18</td>\n",
       "      <td>4.82</td>\n",
       "      <td>0.16</td>\n",
       "      <td>17.12</td>\n",
       "      <td>7.55</td>\n",
       "      <td>1.30</td>\n",
       "      <td>1.39</td>\n",
       "      <td>12.10</td>\n",
       "      <td>5.79</td>\n",
       "      <td>0.23</td>\n",
       "    </tr>\n",
       "    <tr>\n",
       "      <th>2010</th>\n",
       "      <td>0.73</td>\n",
       "      <td>17.28</td>\n",
       "      <td>8.56</td>\n",
       "      <td>1.28</td>\n",
       "      <td>-0.08</td>\n",
       "      <td>18.66</td>\n",
       "      <td>9.66</td>\n",
       "      <td>4.52</td>\n",
       "      <td>2.39</td>\n",
       "      <td>17.83</td>\n",
       "      <td>7.63</td>\n",
       "      <td>1.28</td>\n",
       "      <td>1.99</td>\n",
       "      <td>12.35</td>\n",
       "      <td>5.78</td>\n",
       "      <td>0.16</td>\n",
       "    </tr>\n",
       "    <tr>\n",
       "      <th>2011</th>\n",
       "      <td>0.91</td>\n",
       "      <td>17.21</td>\n",
       "      <td>8.55</td>\n",
       "      <td>1.19</td>\n",
       "      <td>1.20</td>\n",
       "      <td>19.17</td>\n",
       "      <td>9.72</td>\n",
       "      <td>4.40</td>\n",
       "      <td>-1.11</td>\n",
       "      <td>16.01</td>\n",
       "      <td>7.52</td>\n",
       "      <td>1.13</td>\n",
       "      <td>1.68</td>\n",
       "      <td>11.90</td>\n",
       "      <td>5.63</td>\n",
       "      <td>0.17</td>\n",
       "    </tr>\n",
       "    <tr>\n",
       "      <th>2012</th>\n",
       "      <td>0.41</td>\n",
       "      <td>16.42</td>\n",
       "      <td>8.47</td>\n",
       "      <td>1.14</td>\n",
       "      <td>0.56</td>\n",
       "      <td>18.20</td>\n",
       "      <td>9.74</td>\n",
       "      <td>4.41</td>\n",
       "      <td>-2.46</td>\n",
       "      <td>15.29</td>\n",
       "      <td>7.13</td>\n",
       "      <td>1.03</td>\n",
       "      <td>2.26</td>\n",
       "      <td>11.68</td>\n",
       "      <td>5.55</td>\n",
       "      <td>0.13</td>\n",
       "    </tr>\n",
       "    <tr>\n",
       "      <th>2013</th>\n",
       "      <td>-0.85</td>\n",
       "      <td>15.66</td>\n",
       "      <td>8.27</td>\n",
       "      <td>1.14</td>\n",
       "      <td>-0.81</td>\n",
       "      <td>17.07</td>\n",
       "      <td>9.45</td>\n",
       "      <td>4.38</td>\n",
       "      <td>0.46</td>\n",
       "      <td>16.33</td>\n",
       "      <td>7.03</td>\n",
       "      <td>1.14</td>\n",
       "      <td>-1.99</td>\n",
       "      <td>10.64</td>\n",
       "      <td>5.51</td>\n",
       "      <td>0.07</td>\n",
       "    </tr>\n",
       "    <tr>\n",
       "      <th>2014</th>\n",
       "      <td>-5.17</td>\n",
       "      <td>15.45</td>\n",
       "      <td>8.25</td>\n",
       "      <td>1.00</td>\n",
       "      <td>-5.48</td>\n",
       "      <td>16.82</td>\n",
       "      <td>9.32</td>\n",
       "      <td>3.53</td>\n",
       "      <td>-12.55</td>\n",
       "      <td>16.56</td>\n",
       "      <td>7.39</td>\n",
       "      <td>1.00</td>\n",
       "      <td>1.77</td>\n",
       "      <td>10.65</td>\n",
       "      <td>5.68</td>\n",
       "      <td>0.08</td>\n",
       "    </tr>\n",
       "    <tr>\n",
       "      <th>2015</th>\n",
       "      <td>-0.81</td>\n",
       "      <td>14.74</td>\n",
       "      <td>7.66</td>\n",
       "      <td>0.00</td>\n",
       "      <td>-0.80</td>\n",
       "      <td>16.43</td>\n",
       "      <td>8.88</td>\n",
       "      <td>0.00</td>\n",
       "      <td>-1.11</td>\n",
       "      <td>14.69</td>\n",
       "      <td>6.46</td>\n",
       "      <td>0.00</td>\n",
       "      <td>-0.66</td>\n",
       "      <td>9.79</td>\n",
       "      <td>4.86</td>\n",
       "      <td>0.00</td>\n",
       "    </tr>\n",
       "  </tbody>\n",
       "</table>\n",
       "</div>"
      ],
      "text/plain": [
       "GEO,LEG_FORM,INDIC_SB,NACE_R2\\TIME  Germany,Total,Net business population growth - percentage,Business economy except activities of holding companies  \\\n",
       "2006                                                                             0.00                                                                   \n",
       "2007                                                                             0.00                                                                   \n",
       "2008                                                                             0.00                                                                   \n",
       "2009                                                                            -1.18                                                                   \n",
       "2010                                                                             0.73                                                                   \n",
       "2011                                                                             0.91                                                                   \n",
       "2012                                                                             0.41                                                                   \n",
       "2013                                                                            -0.85                                                                   \n",
       "2014                                                                            -5.17                                                                   \n",
       "2015                                                                            -0.81                                                                   \n",
       "\n",
       "GEO,LEG_FORM,INDIC_SB,NACE_R2\\TIME  Germany,Total,Business churn: birth rate + death rate - percentage,Business economy except activities of holding companies  \\\n",
       "2006                                                                             0.00                                                                            \n",
       "2007                                                                             0.00                                                                            \n",
       "2008                                                                             0.00                                                                            \n",
       "2009                                                                            17.21                                                                            \n",
       "2010                                                                            17.28                                                                            \n",
       "2011                                                                            17.21                                                                            \n",
       "2012                                                                            16.42                                                                            \n",
       "2013                                                                            15.66                                                                            \n",
       "2014                                                                            15.45                                                                            \n",
       "2015                                                                            14.74                                                                            \n",
       "\n",
       "GEO,LEG_FORM,INDIC_SB,NACE_R2\\TIME  Germany,Total,Death rate: number of enterprise deaths in the reference period (t) divided by the number of enterprises active in t - percentage,Business economy except activities of holding companies  \\\n",
       "2006                                                                             0.00                                                                                                                                                         \n",
       "2007                                                                             0.00                                                                                                                                                         \n",
       "2008                                                                             0.00                                                                                                                                                         \n",
       "2009                                                                             8.90                                                                                                                                                         \n",
       "2010                                                                             8.56                                                                                                                                                         \n",
       "2011                                                                             8.55                                                                                                                                                         \n",
       "2012                                                                             8.47                                                                                                                                                         \n",
       "2013                                                                             8.27                                                                                                                                                         \n",
       "2014                                                                             8.25                                                                                                                                                         \n",
       "2015                                                                             7.66                                                                                                                                                         \n",
       "\n",
       "GEO,LEG_FORM,INDIC_SB,NACE_R2\\TIME  Germany,Total,Employment share of enterprise deaths: number of persons employed in the reference period (t) among enterprise deaths divided by the number of persons employed in t among the stock of active enterprises in t - percentage,Business economy except activities of holding companies  \\\n",
       "2006                                                                             0.00                                                                                                                                                                                                                                                    \n",
       "2007                                                                             0.00                                                                                                                                                                                                                                                    \n",
       "2008                                                                             0.00                                                                                                                                                                                                                                                    \n",
       "2009                                                                             1.39                                                                                                                                                                                                                                                    \n",
       "2010                                                                             1.28                                                                                                                                                                                                                                                    \n",
       "2011                                                                             1.19                                                                                                                                                                                                                                                    \n",
       "2012                                                                             1.14                                                                                                                                                                                                                                                    \n",
       "2013                                                                             1.14                                                                                                                                                                                                                                                    \n",
       "2014                                                                             1.00                                                                                                                                                                                                                                                    \n",
       "2015                                                                             0.00                                                                                                                                                                                                                                                    \n",
       "\n",
       "GEO,LEG_FORM,INDIC_SB,NACE_R2\\TIME  Germany,Sole proprietorship,Net business population growth - percentage,Business economy except activities of holding companies  \\\n",
       "2006                                                                             0.00                                                                                 \n",
       "2007                                                                             0.00                                                                                 \n",
       "2008                                                                             0.00                                                                                 \n",
       "2009                                                                            -2.26                                                                                 \n",
       "2010                                                                            -0.08                                                                                 \n",
       "2011                                                                             1.20                                                                                 \n",
       "2012                                                                             0.56                                                                                 \n",
       "2013                                                                            -0.81                                                                                 \n",
       "2014                                                                            -5.48                                                                                 \n",
       "2015                                                                            -0.80                                                                                 \n",
       "\n",
       "GEO,LEG_FORM,INDIC_SB,NACE_R2\\TIME  Germany,Sole proprietorship,Business churn: birth rate + death rate - percentage,Business economy except activities of holding companies  \\\n",
       "2006                                                                             0.00                                                                                          \n",
       "2007                                                                             0.00                                                                                          \n",
       "2008                                                                             0.00                                                                                          \n",
       "2009                                                                            18.79                                                                                          \n",
       "2010                                                                            18.66                                                                                          \n",
       "2011                                                                            19.17                                                                                          \n",
       "2012                                                                            18.20                                                                                          \n",
       "2013                                                                            17.07                                                                                          \n",
       "2014                                                                            16.82                                                                                          \n",
       "2015                                                                            16.43                                                                                          \n",
       "\n",
       "GEO,LEG_FORM,INDIC_SB,NACE_R2\\TIME  Germany,Sole proprietorship,Death rate: number of enterprise deaths in the reference period (t) divided by the number of enterprises active in t - percentage,Business economy except activities of holding companies  \\\n",
       "2006                                                                             0.00                                                                                                                                                                       \n",
       "2007                                                                             0.00                                                                                                                                                                       \n",
       "2008                                                                             0.00                                                                                                                                                                       \n",
       "2009                                                                            10.18                                                                                                                                                                       \n",
       "2010                                                                             9.66                                                                                                                                                                       \n",
       "2011                                                                             9.72                                                                                                                                                                       \n",
       "2012                                                                             9.74                                                                                                                                                                       \n",
       "2013                                                                             9.45                                                                                                                                                                       \n",
       "2014                                                                             9.32                                                                                                                                                                       \n",
       "2015                                                                             8.88                                                                                                                                                                       \n",
       "\n",
       "GEO,LEG_FORM,INDIC_SB,NACE_R2\\TIME  Germany,Sole proprietorship,Employment share of enterprise deaths: number of persons employed in the reference period (t) among enterprise deaths divided by the number of persons employed in t among the stock of active enterprises in t - percentage,Business economy except activities of holding companies  \\\n",
       "2006                                                                             0.00                                                                                                                                                                                                                                                                  \n",
       "2007                                                                             0.00                                                                                                                                                                                                                                                                  \n",
       "2008                                                                             0.00                                                                                                                                                                                                                                                                  \n",
       "2009                                                                             4.82                                                                                                                                                                                                                                                                  \n",
       "2010                                                                             4.52                                                                                                                                                                                                                                                                  \n",
       "2011                                                                             4.40                                                                                                                                                                                                                                                                  \n",
       "2012                                                                             4.41                                                                                                                                                                                                                                                                  \n",
       "2013                                                                             4.38                                                                                                                                                                                                                                                                  \n",
       "2014                                                                             3.53                                                                                                                                                                                                                                                                  \n",
       "2015                                                                             0.00                                                                                                                                                                                                                                                                  \n",
       "\n",
       "GEO,LEG_FORM,INDIC_SB,NACE_R2\\TIME  Germany,Partnership, co-operatives, associations, etc.,Net business population growth - percentage,Business economy except activities of holding companies  \\\n",
       "2006                                                                             0.00                                                                                                            \n",
       "2007                                                                             0.00                                                                                                            \n",
       "2008                                                                             0.00                                                                                                            \n",
       "2009                                                                             0.16                                                                                                            \n",
       "2010                                                                             2.39                                                                                                            \n",
       "2011                                                                            -1.11                                                                                                            \n",
       "2012                                                                            -2.46                                                                                                            \n",
       "2013                                                                             0.46                                                                                                            \n",
       "2014                                                                           -12.55                                                                                                            \n",
       "2015                                                                            -1.11                                                                                                            \n",
       "\n",
       "GEO,LEG_FORM,INDIC_SB,NACE_R2\\TIME  Germany,Partnership, co-operatives, associations, etc.,Business churn: birth rate + death rate - percentage,Business economy except activities of holding companies  \\\n",
       "2006                                                                             0.00                                                                                                                     \n",
       "2007                                                                             0.00                                                                                                                     \n",
       "2008                                                                             0.00                                                                                                                     \n",
       "2009                                                                            17.12                                                                                                                     \n",
       "2010                                                                            17.83                                                                                                                     \n",
       "2011                                                                            16.01                                                                                                                     \n",
       "2012                                                                            15.29                                                                                                                     \n",
       "2013                                                                            16.33                                                                                                                     \n",
       "2014                                                                            16.56                                                                                                                     \n",
       "2015                                                                            14.69                                                                                                                     \n",
       "\n",
       "GEO,LEG_FORM,INDIC_SB,NACE_R2\\TIME  Germany,Partnership, co-operatives, associations, etc.,Death rate: number of enterprise deaths in the reference period (t) divided by the number of enterprises active in t - percentage,Business economy except activities of holding companies  \\\n",
       "2006                                                                             0.00                                                                                                                                                                                                  \n",
       "2007                                                                             0.00                                                                                                                                                                                                  \n",
       "2008                                                                             0.00                                                                                                                                                                                                  \n",
       "2009                                                                             7.55                                                                                                                                                                                                  \n",
       "2010                                                                             7.63                                                                                                                                                                                                  \n",
       "2011                                                                             7.52                                                                                                                                                                                                  \n",
       "2012                                                                             7.13                                                                                                                                                                                                  \n",
       "2013                                                                             7.03                                                                                                                                                                                                  \n",
       "2014                                                                             7.39                                                                                                                                                                                                  \n",
       "2015                                                                             6.46                                                                                                                                                                                                  \n",
       "\n",
       "GEO,LEG_FORM,INDIC_SB,NACE_R2\\TIME  Germany,Partnership, co-operatives, associations, etc.,Employment share of enterprise deaths: number of persons employed in the reference period (t) among enterprise deaths divided by the number of persons employed in t among the stock of active enterprises in t - percentage,Business economy except activities of holding companies  \\\n",
       "2006                                                                             0.00                                                                                                                                                                                                                                                                                             \n",
       "2007                                                                             0.00                                                                                                                                                                                                                                                                                             \n",
       "2008                                                                             0.00                                                                                                                                                                                                                                                                                             \n",
       "2009                                                                             1.30                                                                                                                                                                                                                                                                                             \n",
       "2010                                                                             1.28                                                                                                                                                                                                                                                                                             \n",
       "2011                                                                             1.13                                                                                                                                                                                                                                                                                             \n",
       "2012                                                                             1.03                                                                                                                                                                                                                                                                                             \n",
       "2013                                                                             1.14                                                                                                                                                                                                                                                                                             \n",
       "2014                                                                             1.00                                                                                                                                                                                                                                                                                             \n",
       "2015                                                                             0.00                                                                                                                                                                                                                                                                                             \n",
       "\n",
       "GEO,LEG_FORM,INDIC_SB,NACE_R2\\TIME  Germany,Limited liability enterprise,Net business population growth - percentage,Business economy except activities of holding companies  \\\n",
       "2006                                                                             0.00                                                                                          \n",
       "2007                                                                             0.00                                                                                          \n",
       "2008                                                                             0.00                                                                                          \n",
       "2009                                                                             1.39                                                                                          \n",
       "2010                                                                             1.99                                                                                          \n",
       "2011                                                                             1.68                                                                                          \n",
       "2012                                                                             2.26                                                                                          \n",
       "2013                                                                            -1.99                                                                                          \n",
       "2014                                                                             1.77                                                                                          \n",
       "2015                                                                            -0.66                                                                                          \n",
       "\n",
       "GEO,LEG_FORM,INDIC_SB,NACE_R2\\TIME  Germany,Limited liability enterprise,Business churn: birth rate + death rate - percentage,Business economy except activities of holding companies  \\\n",
       "2006                                                                             0.00                                                                                                   \n",
       "2007                                                                             0.00                                                                                                   \n",
       "2008                                                                             0.00                                                                                                   \n",
       "2009                                                                            12.10                                                                                                   \n",
       "2010                                                                            12.35                                                                                                   \n",
       "2011                                                                            11.90                                                                                                   \n",
       "2012                                                                            11.68                                                                                                   \n",
       "2013                                                                            10.64                                                                                                   \n",
       "2014                                                                            10.65                                                                                                   \n",
       "2015                                                                             9.79                                                                                                   \n",
       "\n",
       "GEO,LEG_FORM,INDIC_SB,NACE_R2\\TIME  Germany,Limited liability enterprise,Death rate: number of enterprise deaths in the reference period (t) divided by the number of enterprises active in t - percentage,Business economy except activities of holding companies  \\\n",
       "2006                                                                             0.00                                                                                                                                                                                \n",
       "2007                                                                             0.00                                                                                                                                                                                \n",
       "2008                                                                             0.00                                                                                                                                                                                \n",
       "2009                                                                             5.79                                                                                                                                                                                \n",
       "2010                                                                             5.78                                                                                                                                                                                \n",
       "2011                                                                             5.63                                                                                                                                                                                \n",
       "2012                                                                             5.55                                                                                                                                                                                \n",
       "2013                                                                             5.51                                                                                                                                                                                \n",
       "2014                                                                             5.68                                                                                                                                                                                \n",
       "2015                                                                             4.86                                                                                                                                                                                \n",
       "\n",
       "GEO,LEG_FORM,INDIC_SB,NACE_R2\\TIME  Germany,Limited liability enterprise,Employment share of enterprise deaths: number of persons employed in the reference period (t) among enterprise deaths divided by the number of persons employed in t among the stock of active enterprises in t - percentage,Business economy except activities of holding companies  \n",
       "2006                                                                             0.00                                                                                                                                                                                                                                                                          \n",
       "2007                                                                             0.00                                                                                                                                                                                                                                                                          \n",
       "2008                                                                             0.00                                                                                                                                                                                                                                                                          \n",
       "2009                                                                             0.23                                                                                                                                                                                                                                                                          \n",
       "2010                                                                             0.16                                                                                                                                                                                                                                                                          \n",
       "2011                                                                             0.17                                                                                                                                                                                                                                                                          \n",
       "2012                                                                             0.13                                                                                                                                                                                                                                                                          \n",
       "2013                                                                             0.07                                                                                                                                                                                                                                                                          \n",
       "2014                                                                             0.08                                                                                                                                                                                                                                                                          \n",
       "2015                                                                             0.00                                                                                                                                                                                                                                                                          "
      ]
     },
     "execution_count": 13,
     "metadata": {},
     "output_type": "execute_result"
    }
   ],
   "source": [
    "df['Germany']"
   ]
  },
  {
   "cell_type": "code",
   "execution_count": 15,
   "metadata": {
    "scrolled": true
   },
   "outputs": [
    {
     "data": {
      "text/html": [
       "<iframe id=\"igraph\" scrolling=\"no\" style=\"border:none;\" seamless=\"seamless\" src=\"https://plot.ly/~chris2409/6.embed\" height=\"525px\" width=\"100%\"></iframe>"
      ],
      "text/plain": [
       "<plotly.tools.PlotlyDisplay object>"
      ]
     },
     "execution_count": 15,
     "metadata": {},
     "output_type": "execute_result"
    }
   ],
   "source": [
    "import plotly.plotly as py\n",
    "import plotly.graph_objs as go\n",
    "\n",
    "from datetime import datetime\n",
    "import pandas_datareader.data as web\n",
    "\n",
    "sole = business_by_demography['Germany,Sole proprietorship,Net business population growth - percentage,Business economy except activities of holding companies']    \n",
    "total = business_by_demography['Germany,Total,Net business population growth - percentage,Business economy except activities of holding companies']\n",
    "patnership = business_by_demography['Germany,Partnership, co-operatives, associations, etc.,Net business population growth - percentage,Business economy except activities of holding companies']\n",
    "limiteds = business_by_demography['Germany,Limited liability enterprise,Net business population growth - percentage,Business economy except activities of holding companies']\n",
    "\n",
    "\n",
    "\n",
    "sole_proprietorship = go.Scatter(x=df['Germany'].index, y=sole, name='Sole proprietorship')\n",
    "total_growth = go.Scatter(x=df['Germany'].index, y=total, name='Total growth')\n",
    "partnerships = go.Scatter(x=df['Germany'].index, y=patnership, name='Partnerships & Associates')\n",
    "limiteds = go.Scatter(x=df['Germany'].index, y=limiteds, name='Limited liability')\n",
    "\n",
    "data = [sole_proprietorship,total_growth,partnerships,limiteds]\n",
    "\n",
    "layout = dict(\n",
    "    title = \"Growth comparison of different legal forms\",\n",
    "    xaxis = dict(\n",
    "        range = ['2006','2015'])\n",
    ")\n",
    "\n",
    "fig = dict(data=data, layout=layout)\n",
    "py.iplot(fig)"
   ]
  },
  {
   "cell_type": "markdown",
   "metadata": {},
   "source": [
    "## Look at the total net growth of businesses in the eurozone"
   ]
  },
  {
   "cell_type": "code",
   "execution_count": 19,
   "metadata": {},
   "outputs": [],
   "source": [
    "import plotly.plotly as py\n",
    "import pandas as pd\n",
    "\n",
    "df = pd.read_csv('https://raw.githubusercontent.com/plotly/datasets/master/2014_world_gdp_with_codes.csv')\n",
    "\n",
    "data = [ dict(\n",
    "        type = 'choropleth',\n",
    "        locations = df['CODE'],\n",
    "        z = df['GDP (BILLIONS)'],\n",
    "        text = df['COUNTRY'],\n",
    "        colorscale = [[0,\"rgb(5, 10, 172)\"],[0.35,\"rgb(40, 60, 190)\"],[0.5,\"rgb(70, 100, 245)\"],\\\n",
    "            [0.6,\"rgb(90, 120, 245)\"],[0.7,\"rgb(106, 137, 247)\"],[1,\"rgb(220, 220, 220)\"]],\n",
    "        autocolorscale = False,\n",
    "        reversescale = True,\n",
    "        marker = dict(\n",
    "            line = dict (\n",
    "                color = 'rgb(180,180,180)',\n",
    "                width = 0.5\n",
    "            ) ),\n",
    "        colorbar = dict(\n",
    "            autotick = False,\n",
    "            tickprefix = '$',\n",
    "            title = 'GDP<br>Billions US$'),\n",
    "      ) ]\n",
    "\n",
    "layout = dict(\n",
    "    title = '2014 Global GDP<br>Source:\\\n",
    "            <a href=\"https://www.cia.gov/library/publications/the-world-factbook/fields/2195.html\">\\\n",
    "            CIA World Factbook</a>',\n",
    "    geo = dict(\n",
    "        showframe = False,\n",
    "        showcoastlines = False,\n",
    "        projection = dict(\n",
    "            type = 'Mercator'\n",
    "        )\n",
    "    )\n",
    ")\n",
    "\n",
    "fig = dict( data=data, layout=layout )\n",
    "py.iplot( fig, validate=False, filename='d3-world-map' )"
   ]
  },
  {
   "cell_type": "markdown",
   "metadata": {},
   "source": [
    "## Build a dataframe to compare the total growth of each country during the period of measurement"
   ]
  },
  {
   "cell_type": "markdown",
   "metadata": {},
   "source": [
    "### We need to add the country codes to the dataframe for later vizualisation"
   ]
  },
  {
   "cell_type": "code",
   "execution_count": 20,
   "metadata": {
    "collapsed": true
   },
   "outputs": [],
   "source": [
    "import pycountry"
   ]
  },
  {
   "cell_type": "code",
   "execution_count": 52,
   "metadata": {},
   "outputs": [
    {
     "name": "stdout",
     "output_type": "stream",
     "text": [
      "Slovenia SI\n",
      "Finland FI\n",
      "United Kingdom GB\n",
      "Poland PL\n",
      "European Union (28 countries) No country found\n",
      "Turkey TR\n",
      "Latvia LV\n",
      "European Union (27 countries) No country found\n",
      "Germany DE\n",
      "Bulgaria BG\n",
      "Romania RO\n",
      "Hungary HU\n",
      "Belgium BE\n",
      "European Union (aggregate changing according to the context) No country found\n",
      "Former Yugoslav Republic of Macedonia No country found\n",
      "Cyprus CY\n",
      "Malta MT\n",
      "Czech Republic CZ\n",
      "Estonia EE\n",
      "Netherlands NL\n",
      "Austria AT\n",
      "Luxembourg LU\n",
      "Portugal PT\n",
      "Slovakia SK\n",
      "Greece GR\n",
      "Lithuania LT\n",
      "Ireland IE\n",
      "Spain ES\n",
      "Norway NO\n",
      "Denmark DK\n",
      "France FR\n",
      "Croatia HR\n",
      "Sweden SE\n",
      "Italy IT\n",
      "Switzerland CH\n"
     ]
    }
   ],
   "source": [
    "mapping = {country.name: country.alpha2 for country in pycountry.countries}\n",
    "codes = []\n",
    "for column in countries_unique:\n",
    "    print(column, mapping.get(column, 'No country found'))\n",
    "    codes.append((column, mapping.get(column, 'No country found')))\n",
    "countries_codes = pd.DataFrame(codes, columns=['Country', 'Code'])\n",
    "countries_codes = countries_codes.drop(countries_codes[countries_codes.Code == 'No country found'].index)"
   ]
  },
  {
   "cell_type": "markdown",
   "metadata": {},
   "source": [
    "## Now it is time to calculate the observable which is to be presented across the map"
   ]
  },
  {
   "cell_type": "code",
   "execution_count": null,
   "metadata": {
    "collapsed": true
   },
   "outputs": [],
   "source": [
    "total = business_by_demography['Germany,Total,Net business population growth - percentage,Business economy except activities of holding companies']\n",
    "for column in business_by_demography.columns:\n",
    "    \n",
    "\n",
    "\n"
   ]
  }
 ],
 "metadata": {
  "kernelspec": {
   "display_name": "Python 3",
   "language": "python",
   "name": "python3"
  },
  "language_info": {
   "codemirror_mode": {
    "name": "ipython",
    "version": 3
   },
   "file_extension": ".py",
   "mimetype": "text/x-python",
   "name": "python",
   "nbconvert_exporter": "python",
   "pygments_lexer": "ipython3",
   "version": "3.6.3"
  }
 },
 "nbformat": 4,
 "nbformat_minor": 2
}
