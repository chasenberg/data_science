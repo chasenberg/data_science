{
 "cells": [
  {
   "cell_type": "code",
   "execution_count": 1,
   "metadata": {
    "collapsed": true
   },
   "outputs": [],
   "source": [
    "import pandas as pd"
   ]
  },
  {
   "cell_type": "code",
   "execution_count": 2,
   "metadata": {},
   "outputs": [
    {
     "name": "stdout",
     "output_type": "stream",
     "text": [
      "['GEO,LEG_FORM,INDIC_SB,NACE_R2\\\\TIME', '2006', '2007', '2008', '2009', '2010', '2011', '2012', '2013', '2014', '2015']\n"
     ]
    }
   ],
   "source": [
    "#UserInfo.tsv\n",
    "business_by_demography =pd.read_csv('/home/chris/datasets/european_union/test.tsv',delimiter='\\t',encoding='utf-8')\n",
    "print(list(business_by_demography.columns.values)) #file header"
   ]
  },
  {
   "cell_type": "code",
   "execution_count": 3,
   "metadata": {},
   "outputs": [
    {
     "name": "stdout",
     "output_type": "stream",
     "text": [
      "                  GEO,LEG_FORM,INDIC_SB,NACE_R2\\TIME 2006 2007 2008     2009  \\\n",
      "0  European Union (aggregate changing according t...    :    :    :        :   \n",
      "1  European Union (28 countries),Total,Net busine...    :    :    :        :   \n",
      "2  European Union (27 countries),Total,Net busine...    :    :    :        :   \n",
      "3  Belgium,Total,Net business population growth -...    :    :    :  12.26 b   \n",
      "4  Bulgaria,Total,Net business population growth ...    :    :    :    20.78   \n",
      "\n",
      "    2010   2011  2012   2013  2014  2015  \n",
      "0      :      :     :      :     :     :  \n",
      "1      :      :     :      :     :     :  \n",
      "2      :      :     :      :     :     :  \n",
      "3   2.10   2.39  1.33  -0.01  2.29  1.22  \n",
      "4  -1.15  -1.21  1.19   1.16  1.62  1.92  \n"
     ]
    }
   ],
   "source": [
    "print(business_by_demography.head(5)) #last N rows"
   ]
  },
  {
   "cell_type": "code",
   "execution_count": 5,
   "metadata": {
    "collapsed": true
   },
   "outputs": [],
   "source": [
    "business_by_demography = business_by_demography.fillna(0)"
   ]
  },
  {
   "cell_type": "code",
   "execution_count": 6,
   "metadata": {
    "scrolled": true
   },
   "outputs": [
    {
     "data": {
      "text/plain": [
       "Index(['GEO,LEG_FORM,INDIC_SB,NACE_R2\\TIME', '2006', '2007', '2008', '2009',\n",
       "       '2010', '2011', '2012', '2013', '2014', '2015'],\n",
       "      dtype='object')"
      ]
     },
     "execution_count": 6,
     "metadata": {},
     "output_type": "execute_result"
    }
   ],
   "source": [
    "business_by_demography.columns"
   ]
  },
  {
   "cell_type": "code",
   "execution_count": 7,
   "metadata": {},
   "outputs": [
    {
     "data": {
      "text/plain": [
       "pandas.core.series.Series"
      ]
     },
     "execution_count": 7,
     "metadata": {},
     "output_type": "execute_result"
    }
   ],
   "source": [
    "test = business_by_demography.loc[3]\n",
    "type(test)"
   ]
  },
  {
   "cell_type": "code",
   "execution_count": 8,
   "metadata": {
    "collapsed": true
   },
   "outputs": [],
   "source": [
    "import re\n",
    "iterator = business_by_demography.iterrows()\n",
    "\n",
    "pattern = re.compile(\"germany*\")\n",
    "data = []\n",
    "for index, row in iterator:\n",
    "    if pattern.match(row[0].lower()):\n",
    "        data.append(business_by_demography.loc[index])\n",
    "\n",
    "df_germany = pd.DataFrame(data)"
   ]
  },
  {
   "cell_type": "code",
   "execution_count": 9,
   "metadata": {
    "scrolled": true
   },
   "outputs": [
    {
     "data": {
      "text/html": [
       "<div>\n",
       "<style>\n",
       "    .dataframe thead tr:only-child th {\n",
       "        text-align: right;\n",
       "    }\n",
       "\n",
       "    .dataframe thead th {\n",
       "        text-align: left;\n",
       "    }\n",
       "\n",
       "    .dataframe tbody tr th {\n",
       "        vertical-align: top;\n",
       "    }\n",
       "</style>\n",
       "<table border=\"1\" class=\"dataframe\">\n",
       "  <thead>\n",
       "    <tr style=\"text-align: right;\">\n",
       "      <th></th>\n",
       "      <th>GEO,LEG_FORM,INDIC_SB,NACE_R2\\TIME</th>\n",
       "      <th>2006</th>\n",
       "      <th>2007</th>\n",
       "      <th>2008</th>\n",
       "      <th>2009</th>\n",
       "      <th>2010</th>\n",
       "      <th>2011</th>\n",
       "      <th>2012</th>\n",
       "      <th>2013</th>\n",
       "      <th>2014</th>\n",
       "      <th>2015</th>\n",
       "    </tr>\n",
       "  </thead>\n",
       "  <tbody>\n",
       "    <tr>\n",
       "      <th>7</th>\n",
       "      <td>Germany (until 1990 former territory of the FR...</td>\n",
       "      <td>:</td>\n",
       "      <td>:</td>\n",
       "      <td>:</td>\n",
       "      <td>-1.18</td>\n",
       "      <td>0.73</td>\n",
       "      <td>0.91</td>\n",
       "      <td>0.41</td>\n",
       "      <td>-0.85</td>\n",
       "      <td>-5.17</td>\n",
       "      <td>-0.81</td>\n",
       "    </tr>\n",
       "    <tr>\n",
       "      <th>42</th>\n",
       "      <td>Germany (until 1990 former territory of the FR...</td>\n",
       "      <td>:</td>\n",
       "      <td>:</td>\n",
       "      <td>:</td>\n",
       "      <td>17.21</td>\n",
       "      <td>17.28</td>\n",
       "      <td>17.21</td>\n",
       "      <td>16.42</td>\n",
       "      <td>15.66</td>\n",
       "      <td>15.45</td>\n",
       "      <td>14.74 p</td>\n",
       "    </tr>\n",
       "    <tr>\n",
       "      <th>77</th>\n",
       "      <td>Germany (until 1990 former territory of the FR...</td>\n",
       "      <td>:</td>\n",
       "      <td>:</td>\n",
       "      <td>:</td>\n",
       "      <td>8.90</td>\n",
       "      <td>8.56</td>\n",
       "      <td>8.55</td>\n",
       "      <td>8.47</td>\n",
       "      <td>8.27</td>\n",
       "      <td>8.25</td>\n",
       "      <td>7.66 p</td>\n",
       "    </tr>\n",
       "    <tr>\n",
       "      <th>112</th>\n",
       "      <td>Germany (until 1990 former territory of the FR...</td>\n",
       "      <td>:</td>\n",
       "      <td>:</td>\n",
       "      <td>: e</td>\n",
       "      <td>1.39 e</td>\n",
       "      <td>1.28 e</td>\n",
       "      <td>1.19 e</td>\n",
       "      <td>1.14 e</td>\n",
       "      <td>1.14 e</td>\n",
       "      <td>1.00 e</td>\n",
       "      <td>: p</td>\n",
       "    </tr>\n",
       "    <tr>\n",
       "      <th>147</th>\n",
       "      <td>Germany (until 1990 former territory of the FR...</td>\n",
       "      <td>:</td>\n",
       "      <td>:</td>\n",
       "      <td>:</td>\n",
       "      <td>-2.26</td>\n",
       "      <td>-0.08</td>\n",
       "      <td>1.20</td>\n",
       "      <td>0.56</td>\n",
       "      <td>-0.81</td>\n",
       "      <td>-5.48</td>\n",
       "      <td>-0.80</td>\n",
       "    </tr>\n",
       "    <tr>\n",
       "      <th>182</th>\n",
       "      <td>Germany (until 1990 former territory of the FR...</td>\n",
       "      <td>:</td>\n",
       "      <td>:</td>\n",
       "      <td>:</td>\n",
       "      <td>18.79</td>\n",
       "      <td>18.66</td>\n",
       "      <td>19.17</td>\n",
       "      <td>18.20</td>\n",
       "      <td>17.07</td>\n",
       "      <td>16.82</td>\n",
       "      <td>16.43 p</td>\n",
       "    </tr>\n",
       "    <tr>\n",
       "      <th>217</th>\n",
       "      <td>Germany (until 1990 former territory of the FR...</td>\n",
       "      <td>:</td>\n",
       "      <td>:</td>\n",
       "      <td>:</td>\n",
       "      <td>10.18</td>\n",
       "      <td>9.66</td>\n",
       "      <td>9.72</td>\n",
       "      <td>9.74</td>\n",
       "      <td>9.45</td>\n",
       "      <td>9.32</td>\n",
       "      <td>8.88 p</td>\n",
       "    </tr>\n",
       "    <tr>\n",
       "      <th>252</th>\n",
       "      <td>Germany (until 1990 former territory of the FR...</td>\n",
       "      <td>:</td>\n",
       "      <td>:</td>\n",
       "      <td>: e</td>\n",
       "      <td>4.82 e</td>\n",
       "      <td>4.52 e</td>\n",
       "      <td>4.40 e</td>\n",
       "      <td>4.41 e</td>\n",
       "      <td>4.38 e</td>\n",
       "      <td>3.53 e</td>\n",
       "      <td>: p</td>\n",
       "    </tr>\n",
       "    <tr>\n",
       "      <th>287</th>\n",
       "      <td>Germany (until 1990 former territory of the FR...</td>\n",
       "      <td>:</td>\n",
       "      <td>:</td>\n",
       "      <td>:</td>\n",
       "      <td>0.16</td>\n",
       "      <td>2.39</td>\n",
       "      <td>-1.11</td>\n",
       "      <td>-2.46</td>\n",
       "      <td>0.46</td>\n",
       "      <td>-12.55</td>\n",
       "      <td>-1.11</td>\n",
       "    </tr>\n",
       "    <tr>\n",
       "      <th>322</th>\n",
       "      <td>Germany (until 1990 former territory of the FR...</td>\n",
       "      <td>:</td>\n",
       "      <td>:</td>\n",
       "      <td>:</td>\n",
       "      <td>17.12</td>\n",
       "      <td>17.83</td>\n",
       "      <td>16.01</td>\n",
       "      <td>15.29</td>\n",
       "      <td>16.33</td>\n",
       "      <td>16.56</td>\n",
       "      <td>14.69 p</td>\n",
       "    </tr>\n",
       "    <tr>\n",
       "      <th>357</th>\n",
       "      <td>Germany (until 1990 former territory of the FR...</td>\n",
       "      <td>:</td>\n",
       "      <td>:</td>\n",
       "      <td>:</td>\n",
       "      <td>7.55</td>\n",
       "      <td>7.63</td>\n",
       "      <td>7.52</td>\n",
       "      <td>7.13</td>\n",
       "      <td>7.03</td>\n",
       "      <td>7.39</td>\n",
       "      <td>6.46 p</td>\n",
       "    </tr>\n",
       "    <tr>\n",
       "      <th>392</th>\n",
       "      <td>Germany (until 1990 former territory of the FR...</td>\n",
       "      <td>:</td>\n",
       "      <td>:</td>\n",
       "      <td>: e</td>\n",
       "      <td>1.30 e</td>\n",
       "      <td>1.28 e</td>\n",
       "      <td>1.13 e</td>\n",
       "      <td>1.03 e</td>\n",
       "      <td>1.14 e</td>\n",
       "      <td>1.00 e</td>\n",
       "      <td>: p</td>\n",
       "    </tr>\n",
       "    <tr>\n",
       "      <th>427</th>\n",
       "      <td>Germany (until 1990 former territory of the FR...</td>\n",
       "      <td>:</td>\n",
       "      <td>:</td>\n",
       "      <td>:</td>\n",
       "      <td>1.39</td>\n",
       "      <td>1.99</td>\n",
       "      <td>1.68</td>\n",
       "      <td>2.26</td>\n",
       "      <td>-1.99</td>\n",
       "      <td>1.77</td>\n",
       "      <td>-0.66</td>\n",
       "    </tr>\n",
       "    <tr>\n",
       "      <th>462</th>\n",
       "      <td>Germany (until 1990 former territory of the FR...</td>\n",
       "      <td>:</td>\n",
       "      <td>:</td>\n",
       "      <td>:</td>\n",
       "      <td>12.10</td>\n",
       "      <td>12.35</td>\n",
       "      <td>11.90</td>\n",
       "      <td>11.68</td>\n",
       "      <td>10.64</td>\n",
       "      <td>10.65</td>\n",
       "      <td>9.79 p</td>\n",
       "    </tr>\n",
       "    <tr>\n",
       "      <th>497</th>\n",
       "      <td>Germany (until 1990 former territory of the FR...</td>\n",
       "      <td>:</td>\n",
       "      <td>:</td>\n",
       "      <td>:</td>\n",
       "      <td>5.79</td>\n",
       "      <td>5.78</td>\n",
       "      <td>5.63</td>\n",
       "      <td>5.55</td>\n",
       "      <td>5.51</td>\n",
       "      <td>5.68</td>\n",
       "      <td>4.86 p</td>\n",
       "    </tr>\n",
       "    <tr>\n",
       "      <th>532</th>\n",
       "      <td>Germany (until 1990 former territory of the FR...</td>\n",
       "      <td>:</td>\n",
       "      <td>:</td>\n",
       "      <td>: e</td>\n",
       "      <td>0.23 e</td>\n",
       "      <td>0.16 e</td>\n",
       "      <td>0.17 e</td>\n",
       "      <td>0.13 e</td>\n",
       "      <td>0.07 e</td>\n",
       "      <td>0.08 e</td>\n",
       "      <td>: p</td>\n",
       "    </tr>\n",
       "  </tbody>\n",
       "</table>\n",
       "</div>"
      ],
      "text/plain": [
       "                    GEO,LEG_FORM,INDIC_SB,NACE_R2\\TIME 2006 2007 2008    2009  \\\n",
       "7    Germany (until 1990 former territory of the FR...    :    :    :   -1.18   \n",
       "42   Germany (until 1990 former territory of the FR...    :    :    :   17.21   \n",
       "77   Germany (until 1990 former territory of the FR...    :    :    :    8.90   \n",
       "112  Germany (until 1990 former territory of the FR...    :    :  : e  1.39 e   \n",
       "147  Germany (until 1990 former territory of the FR...    :    :    :   -2.26   \n",
       "182  Germany (until 1990 former territory of the FR...    :    :    :   18.79   \n",
       "217  Germany (until 1990 former territory of the FR...    :    :    :   10.18   \n",
       "252  Germany (until 1990 former territory of the FR...    :    :  : e  4.82 e   \n",
       "287  Germany (until 1990 former territory of the FR...    :    :    :    0.16   \n",
       "322  Germany (until 1990 former territory of the FR...    :    :    :   17.12   \n",
       "357  Germany (until 1990 former territory of the FR...    :    :    :    7.55   \n",
       "392  Germany (until 1990 former territory of the FR...    :    :  : e  1.30 e   \n",
       "427  Germany (until 1990 former territory of the FR...    :    :    :    1.39   \n",
       "462  Germany (until 1990 former territory of the FR...    :    :    :   12.10   \n",
       "497  Germany (until 1990 former territory of the FR...    :    :    :    5.79   \n",
       "532  Germany (until 1990 former territory of the FR...    :    :  : e  0.23 e   \n",
       "\n",
       "       2010    2011    2012    2013    2014     2015  \n",
       "7      0.73    0.91    0.41   -0.85   -5.17    -0.81  \n",
       "42    17.28   17.21   16.42   15.66   15.45  14.74 p  \n",
       "77     8.56    8.55    8.47    8.27    8.25   7.66 p  \n",
       "112  1.28 e  1.19 e  1.14 e  1.14 e  1.00 e      : p  \n",
       "147   -0.08    1.20    0.56   -0.81   -5.48    -0.80  \n",
       "182   18.66   19.17   18.20   17.07   16.82  16.43 p  \n",
       "217    9.66    9.72    9.74    9.45    9.32   8.88 p  \n",
       "252  4.52 e  4.40 e  4.41 e  4.38 e  3.53 e      : p  \n",
       "287    2.39   -1.11   -2.46    0.46  -12.55    -1.11  \n",
       "322   17.83   16.01   15.29   16.33   16.56  14.69 p  \n",
       "357    7.63    7.52    7.13    7.03    7.39   6.46 p  \n",
       "392  1.28 e  1.13 e  1.03 e  1.14 e  1.00 e      : p  \n",
       "427    1.99    1.68    2.26   -1.99    1.77    -0.66  \n",
       "462   12.35   11.90   11.68   10.64   10.65   9.79 p  \n",
       "497    5.78    5.63    5.55    5.51    5.68   4.86 p  \n",
       "532  0.16 e  0.17 e  0.13 e  0.07 e  0.08 e      : p  "
      ]
     },
     "execution_count": 9,
     "metadata": {},
     "output_type": "execute_result"
    }
   ],
   "source": [
    "df_germany"
   ]
  },
  {
   "cell_type": "code",
   "execution_count": 11,
   "metadata": {
    "collapsed": true
   },
   "outputs": [],
   "source": [
    "for i in range(1,df_germany.shape[0]):    \n",
    "    df_germany.iloc[:,1:1+i] = df_germany.iloc[:,1:1+i].replace(':', '0').replace(': e', '0').replace(': p', '0').replace(': p', '0')\n",
    "    "
   ]
  },
  {
   "cell_type": "code",
   "execution_count": 12,
   "metadata": {
    "collapsed": true
   },
   "outputs": [],
   "source": [
    "for column in df_germany.columns:  \n",
    "    df_germany[column].apply(lambda x: x.split(' ')[0].replace('e', ''))"
   ]
  },
  {
   "cell_type": "code",
   "execution_count": 50,
   "metadata": {},
   "outputs": [],
   "source": [
    "for column in df_germany.columns:  \n",
    "    column = str(column)\n",
    "    df_germany[column]  = df_germany[column].str.strip('e').str.strip('p')"
   ]
  },
  {
   "cell_type": "code",
   "execution_count": 49,
   "metadata": {},
   "outputs": [],
   "source": [
    "#df_germany['2011'].apply(lambda x: float(x.split()[0].replace('.', '')))"
   ]
  },
  {
   "cell_type": "code",
   "execution_count": 55,
   "metadata": {
    "scrolled": true
   },
   "outputs": [],
   "source": [
    "df_germany.apply(pd.to_numeric, args=('coerce',)).mean()\n",
    "df_germany =  df_germany.apply(pd.to_numeric, args=('coerce',))"
   ]
  },
  {
   "cell_type": "code",
   "execution_count": 56,
   "metadata": {},
   "outputs": [
    {
     "data": {
      "text/plain": [
       "6.58"
      ]
     },
     "execution_count": 56,
     "metadata": {},
     "output_type": "execute_result"
    }
   ],
   "source": [
    "df_germany['2011'].mean()"
   ]
  },
  {
   "cell_type": "code",
   "execution_count": 57,
   "metadata": {
    "collapsed": true
   },
   "outputs": [],
   "source": [
    "import seaborn as sns\n",
    "import matplotlib\n",
    "import numpy as np\n",
    "import matplotlib.pyplot as plt\n",
    "%matplotlib inline"
   ]
  },
  {
   "cell_type": "code",
   "execution_count": 59,
   "metadata": {
    "scrolled": true
   },
   "outputs": [
    {
     "data": {
      "image/png": "[encoded data removed]",
      "text/plain": [
       "<matplotlib.figure.Figure at 0x7f307f093d68>"
      ]
     },
     "metadata": {},
     "output_type": "display_data"
    }
   ],
   "source": [
    "sns.distplot(df_germany['2012']);"
   ]
  },
  {
   "cell_type": "code",
   "execution_count": 63,
   "metadata": {},
   "outputs": [
    {
     "data": {
      "image/png": "[encoded data removed]",
      "text/plain": [
       "<matplotlib.figure.Figure at 0x7f307ec4c898>"
      ]
     },
     "metadata": {},
     "output_type": "display_data"
    }
   ],
   "source": [
    "x = df_germany['2009']\n",
    "y = df_germany['2015']\n",
    "sns.jointplot(x, y, data=df_germany, kind=\"kde\");"
   ]
  },
  {
   "cell_type": "code",
   "execution_count": 62,
   "metadata": {},
   "outputs": [
    {
     "data": {
      "image/png": "[encoded data removed]",
      "text/plain": [
       "<matplotlib.figure.Figure at 0x7f307ef3e6a0>"
      ]
     },
     "metadata": {},
     "output_type": "display_data"
    }
   ],
   "source": [
    "x = df_germany['2012']\n",
    "y = df_germany['2015']\n",
    "sns.jointplot(x, y, data=df_germany, kind=\"kde\");"
   ]
  },
  {
   "cell_type": "code",
   "execution_count": null,
   "metadata": {
    "collapsed": true
   },
   "outputs": [],
   "source": []
  }
 ],
 "metadata": {
  "kernelspec": {
   "display_name": "Python 3",
   "language": "python",
   "name": "python3"
  },
  "language_info": {
   "codemirror_mode": {
    "name": "ipython",
    "version": 3
   },
   "file_extension": ".py",
   "mimetype": "text/x-python",
   "name": "python",
   "nbconvert_exporter": "python",
   "pygments_lexer": "ipython3",
   "version": "3.6.3"
  }
 },
 "nbformat": 4,
 "nbformat_minor": 2
}
