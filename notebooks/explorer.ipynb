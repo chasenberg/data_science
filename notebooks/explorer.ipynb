{
 "cells": [
  {
   "cell_type": "markdown",
   "metadata": {},
   "source": [
    "# Business demography of the European Union\n",
    "\n",
    "## Overview\n",
    "\n",
    "* This notebook is intended to demonstrate basic techniques of formatting a dataset and gaining simple insights.  The term business demography is used here to cover a group of variables which explain the characteristics and demography of the business population. The creation of new enterprises and the closure of unproductive businesses can be seen as an important contributor to business dynamism. In addition to studying the population of active enterprises, the counts and characteristics of enterprise births and deaths are examined. \n",
    "\n",
    "In the following we will apply\n",
    "* data manipulation using pandas \n",
    "* Visualize data using Plotly time-series\n",
    "* Check correlations between countries\n",
    "* Visualise with Plotly bar-chart and choropleth\n",
    "\n",
    "\n"
   ]
  },
  {
   "cell_type": "code",
   "execution_count": 1,
   "metadata": {
    "collapsed": true
   },
   "outputs": [],
   "source": [
    "import pandas as pd\n",
    "import plotly.plotly as py\n",
    "import plotly.graph_objs as go\n",
    "\n",
    "from datetime import datetime\n",
    "import pandas_datareader.data as web\n",
    "\n",
    "import seaborn as sns\n",
    "import matplotlib.pyplot as plt\n",
    "\n",
    "import pycountry\n",
    "import numpy as np"
   ]
  },
  {
   "cell_type": "code",
   "execution_count": 2,
   "metadata": {},
   "outputs": [
    {
     "data": {
      "text/plain": [
       "Index(['GEO,LEG_FORM,INDIC_SB,NACE_R2\\TIME', '2006', '2007', '2008', '2009',\n",
       "       '2010', '2011', '2012', '2013', '2014', '2015'],\n",
       "      dtype='object')"
      ]
     },
     "execution_count": 2,
     "metadata": {},
     "output_type": "execute_result"
    }
   ],
   "source": [
    "#UserInfo.tsv\n",
    "business_demography = pd.read_csv('../datasets/european-business-demography.tsv', delimiter='\\t', encoding='utf-8')\n",
    "#print(list(business_by_demography.columns.values)) #file header\n",
    "business_demography.columns"
   ]
  },
  {
   "cell_type": "markdown",
   "metadata": {},
   "source": [
    "### Renaming the lengthy legend"
   ]
  },
  {
   "cell_type": "code",
   "execution_count": 3,
   "metadata": {
    "collapsed": true
   },
   "outputs": [],
   "source": [
    "business_demography = business_demography.rename(columns={'GEO,LEG_FORM,INDIC_SB,NACE_R2\\TIME':'Countries'})"
   ]
  },
  {
   "cell_type": "markdown",
   "metadata": {},
   "source": [
    "### Transpose table and generate new vertical index\n",
    "* Its my personal preference having the growth/death etc. values assigned to each year organized in columns"
   ]
  },
  {
   "cell_type": "code",
   "execution_count": 4,
   "metadata": {
    "collapsed": true
   },
   "outputs": [],
   "source": [
    "#Fill empty cells with zeros\n",
    "business_demography = business_demography.fillna(0)\n",
    "#Set countries as new dataframe index\n",
    "business_demography.set_index('Countries',inplace=True)\n",
    "#Transpose the table\n",
    "business_demography = business_demography.transpose()"
   ]
  },
  {
   "cell_type": "markdown",
   "metadata": {},
   "source": [
    "## There are certain flags in the table to indicate special features of the data\n",
    "\n",
    "### Available flags\n",
    "* b\tbreak in time series\n",
    "* c\tconfidential\n",
    "* d\tdefinition differs, see metadata\n",
    "* e\testimated\n",
    "* f\tforecast\n",
    "* i\tsee metadata (phased out)\n",
    "* n\tnot significant\n",
    "* p\tprovisional\n",
    "* r\trevised\n",
    "* s\tEurostat estimate (phased out)\n",
    "* u\tlow reliability\n",
    "* z\tnot applicable\n",
    "\n",
    "It is not recommendable in general to drop the information contained by these flags, but for first exploration purposes it should not do too much harm. The flags can easily remove by filling them all into a list and strip them by looping over this list. \n",
    "\n",
    "### Lets remove these flags"
   ]
  },
  {
   "cell_type": "code",
   "execution_count": 5,
   "metadata": {
    "collapsed": true
   },
   "outputs": [],
   "source": [
    "flags = ['b', 'c', 'd','e','f','i','n','p','r','s','u','z']"
   ]
  },
  {
   "cell_type": "code",
   "execution_count": 6,
   "metadata": {
    "collapsed": true,
    "scrolled": true
   },
   "outputs": [],
   "source": [
    "for column in business_demography.columns:  \n",
    "    column = str(column)\n",
    "    for flag in flags:\n",
    "        business_demography[column] = business_demography[column].str.strip(flag)"
   ]
  },
  {
   "cell_type": "markdown",
   "metadata": {},
   "source": [
    "### Replace the lengthy name of Germany in all availabe columns\n",
    "1. The lengthy column titles are structered by commas\n",
    "2. The country name is extracted by using the .split() command with delimiter ','\n",
    "3. This returns a list of strings where the first element equals the particular country name\n",
    "4. The name can be replaced"
   ]
  },
  {
   "cell_type": "code",
   "execution_count": 7,
   "metadata": {
    "collapsed": true
   },
   "outputs": [],
   "source": [
    "for column in business_demography.columns:  \n",
    "    column = str(column)\n",
    "    column_content = column.split(',')[0]\n",
    "    if 'Germany' in column_content:\n",
    "        old_german_name = 'Germany (until 1990 former territory of the FRG)'\n",
    "        new_german_name = 'Germany'\n",
    "        new_column = column.replace(old_german_name,new_german_name)\n",
    "        business_demography = business_demography.rename(index=str,columns={column:new_column})"
   ]
  },
  {
   "cell_type": "markdown",
   "metadata": {},
   "source": [
    "### Replace the colons by zeros and convert strings to numerical values\n",
    "* The dataset indicates missing data by ':' - lets replace it by zero!\n",
    "* So far the contained data consists of strings - of course we need numerical values for our exploration."
   ]
  },
  {
   "cell_type": "code",
   "execution_count": 8,
   "metadata": {
    "collapsed": true
   },
   "outputs": [],
   "source": [
    "business_demography = business_demography.replace(':',0)\n",
    "business_demography =  business_demography.apply(pd.to_numeric, args=('coerce',))\n",
    "business_demography = business_demography.fillna(0)"
   ]
  },
  {
   "cell_type": "markdown",
   "metadata": {},
   "source": [
    "### Drop the columns that should contain average data about the EU\n",
    "* By looking at the raw data you can easily see (of course you can check it as well using pandas) that the columns called 'European Union' contain no data\n",
    "* Let's drop these columns by using regex, so we get all columns containg 'European Union'!"
   ]
  },
  {
   "cell_type": "code",
   "execution_count": 9,
   "metadata": {
    "collapsed": true
   },
   "outputs": [],
   "source": [
    "business_demography.drop(list(business_demography.filter(regex = 'European Union')), axis = 1, inplace = True)"
   ]
  },
  {
   "cell_type": "markdown",
   "metadata": {},
   "source": [
    "### Drop the years 2006-2008\n",
    "* Since these years are empty too we can drop them as well!"
   ]
  },
  {
   "cell_type": "code",
   "execution_count": 10,
   "metadata": {
    "collapsed": true,
    "scrolled": true
   },
   "outputs": [],
   "source": [
    "business_demography = business_demography.drop('2006').drop('2007').drop('2008')"
   ]
  },
  {
   "cell_type": "markdown",
   "metadata": {},
   "source": [
    "### Last step of preparation: Get all unique country names \n",
    "*  it is useful to extract the list of unique countris that are contained in the data"
   ]
  },
  {
   "cell_type": "code",
   "execution_count": 11,
   "metadata": {
    "collapsed": true
   },
   "outputs": [],
   "source": [
    "countries_unique = []\n",
    "for column in business_demography.columns:\n",
    "    column_content = str(column).split(\",\")\n",
    "    countries_unique.append(column_content[0])\n",
    "countries_unique = list(set(countries_unique))"
   ]
  },
  {
   "cell_type": "markdown",
   "metadata": {},
   "source": [
    "### Correlations between growth of different legal forms\n",
    "Plot the correlations of the average \n",
    "* Sole proprietorship growth\n",
    "* Partnership growth\n",
    "* Limiteds growth\n",
    "* Total growth in the EU\n",
    "\n",
    "As can be seen from the plot above, the percentage growth of the enterprises with limited enterprise ist strongly correlated with the total growth in the European Union. The growth of the partnerships, associates etc. is decoupled from the growth of the companies with limited liability. "
   ]
  },
  {
   "cell_type": "code",
   "execution_count": 12,
   "metadata": {
    "scrolled": true
   },
   "outputs": [
    {
     "data": {
      "image/png": "[encoded data removed]",
      "text/plain": [
       "<matplotlib.figure.Figure at 0x7facda2c7c18>"
      ]
     },
     "metadata": {},
     "output_type": "display_data"
    }
   ],
   "source": [
    "import seaborn as sns\n",
    "import matplotlib.pyplot as plt\n",
    "\n",
    "sole = 'Sole proprietorship growth'\n",
    "total = 'Total growth in the EU'\n",
    "partner = 'Partnership growth'\n",
    "limit = 'Limiteds growth'\n",
    "\n",
    "business_demography[sole] = business_demography.filter(regex='Sole proprietorship,Net business population growth', axis=1).mean(axis=1)\n",
    "business_demography[total] = business_demography.filter(regex='Total,Net business population growth', axis=1).mean(axis=1)\n",
    "business_demography[partner] = business_demography.filter(regex='Partnership, co-operatives, associations, etc.,Net business population growth', axis=1).mean(axis=1)\n",
    "business_demography[limit] = business_demography.filter(regex='Limited liability enterprise,Net business population growth', axis=1).mean(axis=1)\n",
    "\n",
    "\n",
    "eu_growth_rates = business_demography.iloc[:,-4:]\n",
    "\n",
    "plt.figure(figsize=(10,10))\n",
    "plt.title('Pearson correlation legal forms across the EU', y=1.05, size=15)\n",
    "plot = sns.heatmap(eu_growth_rates.corr(), xticklabels=eu_growth_rates.columns, yticklabels=eu_growth_rates.columns,  linewidths=0.1,vmax=1.0,vmin=0, square=True, linecolor='white')\n",
    "#plot.set_xticklabels(plot.get_xticklabels(),rotation=30)\n",
    "#plot.set_ylabel('')\n",
    "#plot.set_xlabel('')\n",
    "plt.setp(plot.get_xticklabels(), rotation=45)\n",
    "plt.setp(plot.get_yticklabels(), rotation=0)\n",
    "\n",
    "plt.show()\n"
   ]
  },
  {
   "cell_type": "markdown",
   "metadata": {},
   "source": [
    "## Look at the average total net growth of businesses in the EU between 2009 and 2015\n",
    "\n",
    "* Calculate the average net growth of businesse for each country in the period of measurement 2009-2015\n",
    "* To visualize the data on a choropleth map the standard country codes are attached to each dataframe entry \n",
    "    * Country codes consist of two or three letters: alpha2 and alpha3  --> Read about [alpha3](https://en.wikipedia.org/wiki/ISO_3166-1_alpha-3)\n",
    "    * It seems that the plotly choropleth only accepts alpha3 (Probably i have overlooked this in the reference)\n",
    "    \n",
    "In the first step we will create a new dataframe where we\n",
    "* we choose the columns containing 'Total,Net business population growth' \n",
    "* map the country name to its corresponding country code\n",
    "* Calculate the mean of the total growth during the period of measurement 2009 - 2015"
   ]
  },
  {
   "cell_type": "code",
   "execution_count": 13,
   "metadata": {},
   "outputs": [
    {
     "name": "stderr",
     "output_type": "stream",
     "text": [
      "/home/chris/anaconda3/lib/python3.6/site-packages/seaborn/timeseries.py:183: UserWarning:\n",
      "\n",
      "The tsplot function is deprecated and will be removed or replaced (in a substantially altered version) in a future release.\n",
      "\n"
     ]
    },
    {
     "data": {
      "image/png": "[encoded data removed]",
      "text/plain": [
       "<matplotlib.figure.Figure at 0x7facd9f0eac8>"
      ]
     },
     "metadata": {},
     "output_type": "display_data"
    }
   ],
   "source": [
    "import seaborn as sns\n",
    "import matplotlib.pyplot as plt\n",
    "plt.rcParams[\"font.family\"] = \"Times New Roman\"\n",
    "sns.set(style=\"whitegrid\")\n",
    "#sns.set_style({'font.family': 'Times New Roman'})\n",
    "\n",
    "\n",
    "plt.figure(figsize=(10,10))\n",
    "# Plot the response with standard error\n",
    "sns.tsplot(data=business_demography[sole], time=business_demography.index ,condition=sole, legend=True, color='green' )\n",
    "sns.tsplot(data=business_demography[total], time=business_demography.index ,condition=total, legend=True, color='red' )\n",
    "sns.tsplot(data=business_demography[partner], time=business_demography.index ,condition=partner, legend=True, color='blue' )\n",
    "sns.tsplot(data=business_demography[limit], time=business_demography.index ,condition=limit, legend=True )\n",
    "\n",
    "plt.show()"
   ]
  },
  {
   "cell_type": "markdown",
   "metadata": {
    "collapsed": true
   },
   "source": [
    "### Now compare the sources of growth amoung the legal forms"
   ]
  },
  {
   "cell_type": "code",
   "execution_count": 15,
   "metadata": {},
   "outputs": [],
   "source": [
    "from pycountry import *  \n",
    "mean_growth_total = []\n",
    "mean_growth_sole = []\n",
    "mean_growth_partner = []\n",
    "mean_growth_limit = []\n",
    "\n",
    "sole = 'Sole proprietorship,Net business population growth'\n",
    "total = 'Total,Net business population growth'\n",
    "partner = 'Partnership, co-operatives, associations, etc.,Net business population growth'\n",
    "limit = 'Limited liability enterprise,Net business population growth'\n",
    "\n",
    "\n",
    "for column in business_demography.columns:\n",
    "    new_column_name = column.split(',')[0]\n",
    "    if total in column:\n",
    "        mean_total = business_demography[column].mean()\n",
    "        mean_growth_total.append([new_column_name, mean_total])\n",
    "    elif sole in column:\n",
    "        mean_sole = business_demography[column].mean()\n",
    "        mean_growth_sole.append(mean_sole)\n",
    "    elif partner in column:\n",
    "        mean_partner = business_demography[column].mean()\n",
    "        mean_growth_partner.append(mean_partner)\n",
    "    elif limit in column:\n",
    "        mean_limit = business_demography[column].mean()\n",
    "        mean_growth_limit.append(mean_limit)\n",
    "    \n",
    "\n",
    "\n",
    "join_lists = [mean_growth_total, mean_growth_sole, mean_growth_partner, mean_growth_limit]\n",
    "columns = ['Country', 'Total_mean_growth','Sole_proprietor_mean_growth', 'Partnerships_mean_growth', 'Limited_liability_mean_growth']\n",
    "\n",
    "mean_growth_country = pd.DataFrame(np.column_stack(join_lists), columns=columns)\n",
    "mean_growth_country.iloc[:,1:] = mean_growth_country.iloc[:,1:].apply(pd.to_numeric, args=('coerce',))"
   ]
  },
  {
   "cell_type": "code",
   "execution_count": null,
   "metadata": {},
   "outputs": [],
   "source": [
    "mean_growth_country['Sole_proprietor_mean_growth'].mean()"
   ]
  },
  {
   "cell_type": "markdown",
   "metadata": {
    "collapsed": true
   },
   "source": [
    "## Now we can plot `mean_growth_country` as a Seabron bar chart."
   ]
  },
  {
   "cell_type": "code",
   "execution_count": null,
   "metadata": {
    "scrolled": true
   },
   "outputs": [],
   "source": [
    "import seaborn as sns\n",
    "import matplotlib.pyplot as plt\n",
    "sns.set(style=\"whitegrid\")\n",
    "\n",
    "# Initialize the matplotlib figure\n",
    "f, ax = plt.subplots(figsize=(6, 15))\n",
    "\n",
    "# Load the example car crash dataset\n",
    "crashes = sns.load_dataset(\"car_crashes\").sort_values(\"total\", ascending=False)\n",
    "\n",
    "# Plot the crashes where alcohol was involved\n",
    "sns.set_color_codes(\"muted\")\n",
    "sns.barplot(x=\"Limited_liability_mean_growth\", y=\"Country\", data=mean_growth_country,\n",
    "            label=\"Limited\", color=\"r\", alpha=0.3)\n",
    "# Plot the crashes where alcohol was involved\n",
    "sns.set_color_codes(\"muted\")\n",
    "sns.barplot(x=\"Sole_proprietor_mean_growth\", y=\"Country\", data=mean_growth_country,\n",
    "            label=\"Sole\", color=\"g\", alpha=0.3)\n",
    "\n",
    "# Plot the crashes where alcohol was involved\n",
    "sns.set_color_codes(\"muted\")\n",
    "sns.barplot(x=\"Partnerships_mean_growth\", y=\"Country\", data=mean_growth_country,\n",
    "            label=\"Partnerships\", color=\"y\", alpha=0.3)\n",
    "\n",
    "\n",
    "\n",
    "\n",
    "\n",
    "\n",
    "# Add a legend and informative axis label\n",
    "ax.legend(ncol=2, loc=\"lower right\", frameon=True)\n",
    "ax.set(xlim=(-3, 15), ylabel=\"\",\n",
    "       xlabel=\"Growth of legal forms in %\")\n",
    "sns.despine(left=True, bottom=True)\n",
    "\n",
    "plt.show()"
   ]
  },
  {
   "cell_type": "markdown",
   "metadata": {
    "collapsed": true
   },
   "source": [
    "### Conclusion\n",
    "The dominating sources for the total growth of the business population are France, the Benelux states as well as a number eastern european Countries. The explored data was taken during 2009 and 2015. A dominating and stable source for growth of the business population are the enterprises with limited liability ."
   ]
  },
  {
   "cell_type": "code",
   "execution_count": null,
   "metadata": {
    "collapsed": true
   },
   "outputs": [],
   "source": []
  }
 ],
 "metadata": {
  "kernelspec": {
   "display_name": "Python 3",
   "language": "python",
   "name": "python3"
  },
  "language_info": {
   "codemirror_mode": {
    "name": "ipython",
    "version": 3
   },
   "file_extension": ".py",
   "mimetype": "text/x-python",
   "name": "python",
   "nbconvert_exporter": "python",
   "pygments_lexer": "ipython3",
   "version": "3.6.3"
  }
 },
 "nbformat": 4,
 "nbformat_minor": 2
}
